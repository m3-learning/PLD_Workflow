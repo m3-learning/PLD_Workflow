{
 "cells": [
  {
   "cell_type": "code",
   "execution_count": 10,
   "metadata": {
    "scrolled": true
   },
   "outputs": [
    {
     "ename": "SystemExit",
     "evalue": "0",
     "output_type": "error",
     "traceback": [
      "An exception has occurred, use %tb to see the full traceback.\n",
      "\u001b[1;31mSystemExit\u001b[0m\u001b[1;31m:\u001b[0m 0\n"
     ]
    }
   ],
   "source": [
    "import sys\n",
    "from PyQt5.QtWidgets import QWidget, QListWidget, QListWidgetItem, QLabel, QPushButton, QApplication\n",
    "from PyQt5.QtGui import QFont \n",
    "from PyQt5.QtCore import * \n",
    "from PyQt5.QtWidgets import * \n",
    "\n",
    "\n",
    "class exampleWidget(QWidget):\n",
    "    def __init__(self):\n",
    "        super().__init__()\n",
    "\n",
    "        self.initUI()\n",
    "\n",
    "    def initUI(self):\n",
    "        listWidget = QListWidget(self)\n",
    "        listWidget.itemDoubleClicked.connect(self.buildExamplePopup)\n",
    "\n",
    "        names = [\"Jack\", \"Chris\", \"Joey\", \"Kim\", \"Duncan\"]\n",
    "\n",
    "        for n in names:\n",
    "            QListWidgetItem(n, listWidget)\n",
    "\n",
    "        self.setGeometry(100, 100, 100, 100)\n",
    "        self.show()\n",
    "\n",
    "    def buildExamplePopup(self, message):\n",
    "        message = message.text()\n",
    "        self.exPopup = examplePopup(message)\n",
    "        self.exPopup.setGeometry(200, 200, 600, 300)\n",
    "        self.exPopup.show()\n",
    "\n",
    "class examplePopup(QWidget):\n",
    "    def __init__(self, message):\n",
    "        super().__init__()\n",
    "        self.message = message\n",
    "        self.initUI()\n",
    "    def initUI(self):\n",
    "        lblName = QLabel(self.message, self)\n",
    "\n",
    "if __name__ == \"__main__\":\n",
    "    app = QCoreApplication.instance()\n",
    "    if app is None:\n",
    "        app = QApplication(sys.argv)\n",
    "        \n",
    "#     app = QApplication(sys.argv)\n",
    "    ex = exampleWidget()\n",
    "    sys.exit(app.exec_())"
   ]
  },
  {
   "cell_type": "code",
   "execution_count": null,
   "metadata": {},
   "outputs": [],
   "source": []
  },
  {
   "cell_type": "code",
   "execution_count": null,
   "metadata": {},
   "outputs": [],
   "source": []
  },
  {
   "cell_type": "code",
   "execution_count": 1,
   "metadata": {},
   "outputs": [],
   "source": [
    "%%capture cap --no-stderr\n",
    "\n",
    "import shutil\n",
    "import sys\n",
    "import json\n",
    "import datetime\n",
    "import os, glob, h5py\n",
    "import numpy as np\n",
    "import matplotlib.pyplot as plt\n",
    "from datafed.CommandLib import API\n",
    "\n",
    "from PyQt5.QtGui import QFont \n",
    "from PyQt5.QtCore import * \n",
    "from PyQt5.QtWidgets import * \n",
    "sys.path.append('../')\n",
    "from PLDForm import GenerateForm\n",
    "\n",
    "if __name__ == \"__main__\":\n",
    "    app = QCoreApplication.instance()\n",
    "    if app is None:\n",
    "        app = QApplication(sys.argv)\n",
    "    \n",
    "    custom_font = QFont(\"Times\", 10)\n",
    "\n",
    "    app.setFont(custom_font, \"QGroupBox\")\n",
    "    app.setFont(custom_font, \"QComboBox\")\n",
    "    app.setFont(custom_font, \"QLabel\")\n",
    "    app.setFont(custom_font, \"QLineEdit\")\n",
    "    app.setFont(custom_font, \"QPlainTextEdit\")\n",
    "\n",
    "    window = GenerateForm(version=\"plume\")\n",
    "    window.show()\n",
    "    app.exec_()"
   ]
  },
  {
   "cell_type": "code",
   "execution_count": 2,
   "metadata": {
    "scrolled": true
   },
   "outputs": [],
   "source": [
    "# save outputs to log file\n",
    "log_file ='../../2.logs/'+datetime.datetime.today().strftime(\"%m-%d-%Y\")+'.txt'\n",
    "with open(log_file, 'a') as f:\n",
    "    f.write(cap.stdout)"
   ]
  },
  {
   "cell_type": "code",
   "execution_count": null,
   "metadata": {},
   "outputs": [],
   "source": []
  }
 ],
 "metadata": {
  "kernelspec": {
   "display_name": "Python (pld)",
   "language": "python",
   "name": "pld"
  },
  "language_info": {
   "codemirror_mode": {
    "name": "ipython",
    "version": 3
   },
   "file_extension": ".py",
   "mimetype": "text/x-python",
   "name": "python",
   "nbconvert_exporter": "python",
   "pygments_lexer": "ipython3",
   "version": "3.8.12"
  }
 },
 "nbformat": 4,
 "nbformat_minor": 4
}
