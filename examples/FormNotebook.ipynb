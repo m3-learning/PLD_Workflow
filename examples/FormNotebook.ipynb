{
 "cells": [
  {
   "cell_type": "code",
   "execution_count": 1,
   "metadata": {
    "scrolled": true
   },
   "outputs": [
    {
     "name": "stderr",
     "output_type": "stream",
     "text": [
      "QStandardPaths: XDG_RUNTIME_DIR not set, defaulting to '/tmp/runtime-yichen'\n"
     ]
    }
   ],
   "source": [
    "%%capture cap --no-stderr\n",
    "\n",
    "import shutil\n",
    "import sys\n",
    "import json\n",
    "import datetime\n",
    "import os, glob, h5py\n",
    "import numpy as np\n",
    "import matplotlib.pyplot as plt\n",
    "from datafed.CommandLib import API\n",
    "\n",
    "from PyQt5.QtGui import QFont \n",
    "from PyQt5.QtCore import * \n",
    "from PyQt5.QtWidgets import * \n",
    "sys.path.append('../')\n",
    "from PLDForm import GenerateForm\n",
    "\n",
    "if __name__ == \"__main__\":\n",
    "    app = QCoreApplication.instance()\n",
    "    if app is None:\n",
    "        app = QApplication(sys.argv)\n",
    "    \n",
    "    custom_font = QFont(\"Times\", 10)\n",
    "\n",
    "    app.setFont(custom_font, \"QGroupBox\")\n",
    "    app.setFont(custom_font, \"QComboBox\")\n",
    "    app.setFont(custom_font, \"QLabel\")\n",
    "    app.setFont(custom_font, \"QLineEdit\")\n",
    "    app.setFont(custom_font, \"QPlainTextEdit\")\n",
    "\n",
    "    window = GenerateForm(version=\"parameter\")\n",
    "    window.show()\n",
    "    app.exec_()"
   ]
  },
  {
   "cell_type": "code",
   "execution_count": null,
   "metadata": {},
   "outputs": [],
   "source": [
    "# save outputs to log file\n",
    "log_file ='../../2.logs/'+datetime.datetime.today().strftime(\"%m-%d-%Y\")+'.txt'\n",
    "with open(log_file, 'a') as f:\n",
    "    f.write(cap.stdout)"
   ]
  },
  {
   "cell_type": "code",
   "execution_count": null,
   "metadata": {},
   "outputs": [],
   "source": []
  }
 ],
 "metadata": {
  "kernelspec": {
   "display_name": "Python (gyc)",
   "language": "python",
   "name": "gyc"
  },
  "language_info": {
   "codemirror_mode": {
    "name": "ipython",
    "version": 3
   },
   "file_extension": ".py",
   "mimetype": "text/x-python",
   "name": "python",
   "nbconvert_exporter": "python",
   "pygments_lexer": "ipython3",
   "version": "3.9.12"
  }
 },
 "nbformat": 4,
 "nbformat_minor": 4
}
