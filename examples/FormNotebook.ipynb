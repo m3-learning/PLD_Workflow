{
 "cells": [
  {
   "cell_type": "code",
   "execution_count": 1,
   "metadata": {
    "scrolled": true
   },
   "outputs": [
    {
     "name": "stderr",
     "output_type": "stream",
     "text": [
      "/home/jgoddy2/anaconda3/envs/PLD/lib/python3.11/site-packages/datafed/Connection.py:200: UserWarning: reflection.ParseMessage() is deprecated. Please use MessageFactory.GetMessageClass() and message.ParseFromString() instead. reflection.ParseMessage() will be removed in Jan 2025.\n",
      "  reply = google.protobuf.reflection.ParseMessage(desc, data)\n",
      "/home/jgoddy2/anaconda3/envs/PLD/lib/python3.11/site-packages/google/protobuf/reflection.py:59: UserWarning: reflection.MakeClass() is deprecated. Please use MessageFactory.GetMessageClass() instead. reflection.MakeClass() will be removed in Jan 2025.\n",
      "  result_class = MakeClass(descriptor)\n"
     ]
    },
    {
     "ename": "IndexError",
     "evalue": "list index out of range",
     "output_type": "error",
     "traceback": [
      "\u001b[0;31m---------------------------------------------------------------------------\u001b[0m",
      "\u001b[0;31mIndexError\u001b[0m                                Traceback (most recent call last)",
      "File \u001b[0;32m~/Documents/Research_Agar/PLD_Form/PLD_Workflow/examples/../PLDForm.py:1009\u001b[0m, in \u001b[0;36mGenerateForm.onChanged\u001b[0;34m(self)\u001b[0m\n\u001b[1;32m   1007\u001b[0m \u001b[38;5;66;03m#isolate the relational operator \u001b[39;00m\n\u001b[1;32m   1008\u001b[0m \u001b[38;5;28;01mif\u001b[39;00m \u001b[38;5;28mlen\u001b[39m(relational_operator) \u001b[38;5;241m>\u001b[39m\u001b[38;5;241m0\u001b[39m : \n\u001b[0;32m-> 1009\u001b[0m     relop \u001b[38;5;241m=\u001b[39m \u001b[38;5;28;43msorted\u001b[39;49m\u001b[43m(\u001b[49m\u001b[43mrelational_operators\u001b[49m\u001b[43m,\u001b[49m\u001b[43mkey\u001b[49m\u001b[38;5;241;43m=\u001b[39;49m\u001b[38;5;28;43mlen\u001b[39;49m\u001b[43m)\u001b[49m\u001b[43m[\u001b[49m\u001b[38;5;241;43m-\u001b[39;49m\u001b[38;5;241;43m1\u001b[39;49m\u001b[43m]\u001b[49m\n\u001b[1;32m   1010\u001b[0m     \u001b[38;5;28;01mif\u001b[39;00m re\u001b[38;5;241m.\u001b[39msearch(\u001b[38;5;124m\"\u001b[39m\u001b[38;5;124m(?<!>|<|!)=+\u001b[39m\u001b[38;5;124m\"\u001b[39m,relop):\n\u001b[1;32m   1011\u001b[0m         \u001b[38;5;66;03m# find all instances of any number of equal signs\u001b[39;00m\n\u001b[1;32m   1012\u001b[0m         \u001b[38;5;66;03m# but not combined with anything else, no \"=\" and \"===\" but not \">=\"\u001b[39;00m\n\u001b[1;32m   1013\u001b[0m         \u001b[38;5;66;03m# and replace with \"==\" to allow any number of equal signs and format the\u001b[39;00m\n\u001b[1;32m   1014\u001b[0m         \u001b[38;5;66;03m# result to evaluate correctly\u001b[39;00m\n\u001b[1;32m   1015\u001b[0m         search \u001b[38;5;241m=\u001b[39m re\u001b[38;5;241m.\u001b[39msub(\u001b[38;5;124m\"\u001b[39m\u001b[38;5;124m(?<!>|<|!)=+\u001b[39m\u001b[38;5;124m\"\u001b[39m,\u001b[38;5;124m\"\u001b[39m\u001b[38;5;124m==\u001b[39m\u001b[38;5;124m\"\u001b[39m,search)\n",
      "\u001b[0;31mIndexError\u001b[0m: list index out of range"
     ]
    }
   ],
   "source": [
    "%%capture cap --no-stderr\n",
    "\n",
    "import shutil\n",
    "import sys\n",
    "import json\n",
    "import datetime\n",
    "import os, glob, h5py\n",
    "import numpy as np\n",
    "import matplotlib.pyplot as plt\n",
    "from datafed.CommandLib import API\n",
    "\n",
    "from PyQt5.QtGui import QFont \n",
    "from PyQt5.QtCore import * \n",
    "from PyQt5.QtWidgets import * \n",
    "sys.path.append('../')\n",
    "from PLDForm import GenerateForm\n",
    "\n",
    "if __name__ == \"__main__\":\n",
    "    app = QCoreApplication.instance()\n",
    "    if app is None:\n",
    "        app = QApplication(sys.argv)\n",
    "    \n",
    "    custom_font = QFont(\"Times\", 10)\n",
    "\n",
    "    app.setFont(custom_font, \"QGroupBox\")\n",
    "    app.setFont(custom_font, \"QComboBox\")\n",
    "    app.setFont(custom_font, \"QLabel\")\n",
    "    app.setFont(custom_font, \"QLineEdit\")\n",
    "    app.setFont(custom_font, \"QPlainTextEdit\")\n",
    "\n",
    "    window = GenerateForm(version=\"plume\")\n",
    "    window.show()\n",
    "    app.exec_()"
   ]
  },
  {
   "cell_type": "code",
   "execution_count": 2,
   "metadata": {},
   "outputs": [],
   "source": [
    "# save outputs to log file\n",
    "log_file ='../../2.logs/'+datetime.datetime.today().strftime(\"%m-%d-%Y\")+'.txt'\n",
    "with open(log_file, 'a') as f:\n",
    "    f.write(cap.stdout)"
   ]
  },
  {
   "cell_type": "code",
   "execution_count": null,
   "metadata": {},
   "outputs": [],
   "source": []
  }
 ],
 "metadata": {
  "kernelspec": {
   "display_name": "PLD",
   "language": "python",
   "name": "python3"
  },
  "language_info": {
   "codemirror_mode": {
    "name": "ipython",
    "version": 3
   },
   "file_extension": ".py",
   "mimetype": "text/x-python",
   "name": "python",
   "nbconvert_exporter": "python",
   "pygments_lexer": "ipython3",
   "version": "3.11.5"
  }
 },
 "nbformat": 4,
 "nbformat_minor": 4
}
