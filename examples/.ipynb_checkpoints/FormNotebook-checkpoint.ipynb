{
 "cells": [
  {
   "cell_type": "code",
   "execution_count": 1,
   "metadata": {},
   "outputs": [
    {
     "ename": "ModuleNotFoundError",
     "evalue": "No module named 'h5py'",
     "output_type": "error",
     "traceback": [
      "\u001b[0;31m---------------------------------------------------------------------------\u001b[0m",
      "\u001b[0;31mModuleNotFoundError\u001b[0m                       Traceback (most recent call last)",
      "Input \u001b[0;32mIn [1]\u001b[0m, in \u001b[0;36m<cell line: 5>\u001b[0;34m()\u001b[0m\n\u001b[1;32m      3\u001b[0m \u001b[38;5;28;01mimport\u001b[39;00m \u001b[38;5;21;01mjson\u001b[39;00m\n\u001b[1;32m      4\u001b[0m \u001b[38;5;28;01mimport\u001b[39;00m \u001b[38;5;21;01mdatetime\u001b[39;00m\n\u001b[0;32m----> 5\u001b[0m \u001b[38;5;28;01mimport\u001b[39;00m \u001b[38;5;21;01mos\u001b[39;00m\u001b[38;5;241m,\u001b[39m \u001b[38;5;21;01mglob\u001b[39;00m\u001b[38;5;241m,\u001b[39m \u001b[38;5;21;01mh5py\u001b[39;00m\n\u001b[1;32m      6\u001b[0m \u001b[38;5;28;01mimport\u001b[39;00m \u001b[38;5;21;01mnumpy\u001b[39;00m \u001b[38;5;28;01mas\u001b[39;00m \u001b[38;5;21;01mnp\u001b[39;00m\n\u001b[1;32m      7\u001b[0m \u001b[38;5;28;01mimport\u001b[39;00m \u001b[38;5;21;01mmatplotlib\u001b[39;00m\u001b[38;5;21;01m.\u001b[39;00m\u001b[38;5;21;01mpyplot\u001b[39;00m \u001b[38;5;28;01mas\u001b[39;00m \u001b[38;5;21;01mplt\u001b[39;00m\n",
      "\u001b[0;31mModuleNotFoundError\u001b[0m: No module named 'h5py'"
     ]
    }
   ],
   "source": [
    "import shutil\n",
    "import sys\n",
    "import json\n",
    "import datetime\n",
    "import os, glob, h5py\n",
    "import numpy as np\n",
    "import matplotlib.pyplot as plt\n",
    "from datafed.CommandLib import API\n",
    "\n",
    "from PyQt5.QtGui import QFont \n",
    "from PyQt5.QtCore import * \n",
    "from PyQt5.QtWidgets import * \n",
    "sys.path.append('../PLD_Workflow/')\n",
    "from PLDForm import GenerateForm\n",
    "\n",
    "\n",
    "if __name__ == \"__main__\":\n",
    "    app = QApplication(sys.argv)\n",
    "    custom_font = QFont(\"Times\", 10)\n",
    "\n",
    "    app.setFont(custom_font, \"QGroupBox\")\n",
    "    app.setFont(custom_font, \"QComboBox\")\n",
    "    app.setFont(custom_font, \"QLabel\")\n",
    "    app.setFont(custom_font, \"QLineEdit\")\n",
    "    app.setFont(custom_font, \"QPlainTextEdit\")\n",
    "\n",
    "    window = GenerateForm(version=\"parameter\")\n",
    "    window.show()\n",
    "    app.exec_()"
   ]
  },
  {
   "cell_type": "code",
   "execution_count": 1,
   "metadata": {},
   "outputs": [
    {
     "name": "stdout",
     "output_type": "stream",
     "text": [
      "Saving videos to pre-ablation folder...\n",
      "Done!\n"
     ]
    }
   ],
   "source": [
    "import shutil\n",
    "import sys\n",
    "import json\n",
    "import datetime\n",
    "import os, glob, h5py\n",
    "import numpy as np\n",
    "import matplotlib.pyplot as plt\n",
    "from datafed.CommandLib import API\n",
    "\n",
    "from PyQt5.QtGui import QFont \n",
    "from PyQt5.QtCore import * \n",
    "from PyQt5.QtWidgets import * \n",
    "sys.path.append('C:/Image/PLD_Workflow/')\n",
    "from PLDForm import GenerateForm\n",
    "\n",
    "\n",
    "if __name__ == \"__main__\":\n",
    "    app = QApplication(sys.argv)\n",
    "    custom_font = QFont(\"Times\", 10)\n",
    "\n",
    "    app.setFont(custom_font, \"QGroupBox\")\n",
    "    app.setFont(custom_font, \"QComboBox\")\n",
    "    app.setFont(custom_font, \"QLabel\")\n",
    "    app.setFont(custom_font, \"QLineEdit\")\n",
    "    app.setFont(custom_font, \"QPlainTextEdit\")\n",
    "\n",
    "    window = GenerateForm(version=\"plume\")\n",
    "    window.show()\n",
    "    app.exec_()"
   ]
  },
  {
   "cell_type": "code",
   "execution_count": null,
   "metadata": {},
   "outputs": [],
   "source": []
  }
 ],
 "metadata": {
  "kernelspec": {
   "display_name": "Python (pld)",
   "language": "python",
   "name": "pld"
  },
  "language_info": {
   "codemirror_mode": {
    "name": "ipython",
    "version": 3
   },
   "file_extension": ".py",
   "mimetype": "text/x-python",
   "name": "python",
   "nbconvert_exporter": "python",
   "pygments_lexer": "ipython3",
   "version": "3.9.12"
  }
 },
 "nbformat": 4,
 "nbformat_minor": 4
}
