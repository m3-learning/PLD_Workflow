{
 "cells": [
  {
   "cell_type": "code",
   "execution_count": 3,
   "id": "0ad3cfe4-283b-4e4d-8856-2df09ed9d5bc",
   "metadata": {},
   "outputs": [],
   "source": [
    "import sys\n",
    "sys.path.append('../')\n",
    "import glob\n",
    "import matplotlib.pyplot as plt\n",
    "import numpy as np\n",
    "from ManagePlume import pack_to_hdf5, upload_to_datafed"
   ]
  },
  {
   "cell_type": "code",
   "execution_count": 4,
   "id": "84df9264-6f8b-4b08-af27-89702e005bda",
   "metadata": {},
   "outputs": [
    {
     "name": "stdout",
     "output_type": "stream",
     "text": [
      "Packing to hdf5...\n",
      "Done!\n"
     ]
    }
   ],
   "source": [
    "file_path = 'C:/Image/'\n",
    "file_name = 'LYW169_YichenGuo_02172025'\n",
    "pack_to_hdf5(file_path, file_name)"
   ]
  },
  {
   "cell_type": "code",
   "execution_count": 7,
   "id": "a310af24-bb4a-4590-99a3-4b2cfefe4425",
   "metadata": {},
   "outputs": [
    {
     "ename": "ZMQError",
     "evalue": "Not supported",
     "output_type": "error",
     "traceback": [
      "\u001b[1;31m---------------------------------------------------------------------------\u001b[0m",
      "\u001b[1;31mFileNotFoundError\u001b[0m                         Traceback (most recent call last)",
      "File \u001b[1;32m~\\.conda\\envs\\plume\\lib\\site-packages\\datafed\\MessageLib.py:163\u001b[0m, in \u001b[0;36mAPI.__init__\u001b[1;34m(self, server_host, server_port, server_pub_key_file, server_pub_key, client_pub_key_file, client_pub_key, client_priv_key_file, client_priv_key, client_token, manual_auth, **kwargs)\u001b[0m\n\u001b[0;32m    162\u001b[0m \u001b[38;5;28;01mif\u001b[39;00m client_pub_key_file:\n\u001b[1;32m--> 163\u001b[0m     keyf \u001b[38;5;241m=\u001b[39m \u001b[38;5;28;43mopen\u001b[39;49m\u001b[43m(\u001b[49m\u001b[43mclient_pub_key_file\u001b[49m\u001b[43m,\u001b[49m\u001b[43m \u001b[49m\u001b[38;5;124;43m\"\u001b[39;49m\u001b[38;5;124;43mr\u001b[39;49m\u001b[38;5;124;43m\"\u001b[39;49m\u001b[43m)\u001b[49m\n\u001b[0;32m    164\u001b[0m     _client_pub_key \u001b[38;5;241m=\u001b[39m keyf\u001b[38;5;241m.\u001b[39mread()\n",
      "\u001b[1;31mFileNotFoundError\u001b[0m: [Errno 2] No such file or directory: 'C:\\\\Users\\\\m3l/.datafed\\\\datafed-user-key.pub'",
      "\nDuring handling of the above exception, another exception occurred:\n",
      "\u001b[1;31mZMQError\u001b[0m                                  Traceback (most recent call last)",
      "Cell \u001b[1;32mIn[7], line 4\u001b[0m\n\u001b[0;32m      2\u001b[0m \u001b[38;5;28;01mimport\u001b[39;00m \u001b[38;5;21;01mjson\u001b[39;00m\n\u001b[0;32m      3\u001b[0m \u001b[38;5;28;01mfrom\u001b[39;00m \u001b[38;5;21;01mdatafed\u001b[39;00m\u001b[38;5;21;01m.\u001b[39;00m\u001b[38;5;21;01mCommandLib\u001b[39;00m \u001b[38;5;28;01mimport\u001b[39;00m API\n\u001b[1;32m----> 4\u001b[0m df_api \u001b[38;5;241m=\u001b[39m \u001b[43mAPI\u001b[49m\u001b[43m(\u001b[49m\u001b[43m)\u001b[49m\n",
      "File \u001b[1;32m~\\.conda\\envs\\plume\\lib\\site-packages\\datafed\\CommandLib.py:81\u001b[0m, in \u001b[0;36mAPI.__init__\u001b[1;34m(self, opts)\u001b[0m\n\u001b[0;32m     78\u001b[0m \u001b[38;5;28mself\u001b[39m\u001b[38;5;241m.\u001b[39mcfg \u001b[38;5;241m=\u001b[39m Config\u001b[38;5;241m.\u001b[39mAPI(opts)\n\u001b[0;32m     79\u001b[0m _opts \u001b[38;5;241m=\u001b[39m \u001b[38;5;28mself\u001b[39m\u001b[38;5;241m.\u001b[39m_setSaneDefaultOptions()\n\u001b[1;32m---> 81\u001b[0m \u001b[38;5;28mself\u001b[39m\u001b[38;5;241m.\u001b[39m_mapi \u001b[38;5;241m=\u001b[39m MessageLib\u001b[38;5;241m.\u001b[39mAPI(\u001b[38;5;241m*\u001b[39m\u001b[38;5;241m*\u001b[39m_opts)\n\u001b[0;32m     82\u001b[0m \u001b[38;5;28mself\u001b[39m\u001b[38;5;241m.\u001b[39m_mapi\u001b[38;5;241m.\u001b[39msetNackExceptionEnabled(\u001b[38;5;28;01mTrue\u001b[39;00m)\n\u001b[0;32m     83\u001b[0m auth, uid \u001b[38;5;241m=\u001b[39m \u001b[38;5;28mself\u001b[39m\u001b[38;5;241m.\u001b[39m_mapi\u001b[38;5;241m.\u001b[39mgetAuthStatus()\n",
      "File \u001b[1;32m~\\.conda\\envs\\plume\\lib\\site-packages\\datafed\\MessageLib.py:186\u001b[0m, in \u001b[0;36mAPI.__init__\u001b[1;34m(self, server_host, server_port, server_pub_key_file, server_pub_key, client_pub_key_file, client_pub_key, client_priv_key_file, client_priv_key, client_token, manual_auth, **kwargs)\u001b[0m\n\u001b[0;32m    184\u001b[0m     \u001b[38;5;28mprint\u001b[39m\n\u001b[0;32m    185\u001b[0m \u001b[38;5;28;01mexcept\u001b[39;00m \u001b[38;5;167;01mBaseException\u001b[39;00m:\n\u001b[1;32m--> 186\u001b[0m     pub, priv \u001b[38;5;241m=\u001b[39m \u001b[43mzmq\u001b[49m\u001b[38;5;241;43m.\u001b[39;49m\u001b[43mcurve_keypair\u001b[49m\u001b[43m(\u001b[49m\u001b[43m)\u001b[49m\n\u001b[0;32m    187\u001b[0m     _client_pub_key \u001b[38;5;241m=\u001b[39m pub\u001b[38;5;241m.\u001b[39mdecode(\u001b[38;5;124m\"\u001b[39m\u001b[38;5;124mutf-8\u001b[39m\u001b[38;5;124m\"\u001b[39m)\n\u001b[0;32m    188\u001b[0m     _client_priv_key \u001b[38;5;241m=\u001b[39m priv\u001b[38;5;241m.\u001b[39mdecode(\u001b[38;5;124m\"\u001b[39m\u001b[38;5;124mutf-8\u001b[39m\u001b[38;5;124m\"\u001b[39m)\n",
      "File \u001b[1;32mzmq/backend/cython/utils.pyx:60\u001b[0m, in \u001b[0;36mzmq.backend.cython.utils.curve_keypair\u001b[1;34m()\u001b[0m\n",
      "File \u001b[1;32m~\\.conda\\envs\\plume\\lib\\site-packages\\zmq\\error.py:149\u001b[0m, in \u001b[0;36m_check_rc\u001b[1;34m(rc, errno, error_without_errno)\u001b[0m\n\u001b[0;32m    147\u001b[0m     \u001b[38;5;28;01mraise\u001b[39;00m ContextTerminated(errno)\n\u001b[0;32m    148\u001b[0m \u001b[38;5;28;01melse\u001b[39;00m:\n\u001b[1;32m--> 149\u001b[0m     \u001b[38;5;28;01mraise\u001b[39;00m ZMQError(errno)\n",
      "\u001b[1;31mZMQError\u001b[0m: Not supported"
     ]
    }
   ],
   "source": [
    "import os\n",
    "import json\n",
    "from datafed.CommandLib import API\n",
    "df_api = API()"
   ]
  },
  {
   "cell_type": "code",
   "execution_count": null,
   "id": "abfd5033-9f92-458d-9822-d5bc3cd37063",
   "metadata": {},
   "outputs": [],
   "source": [
    "file_path = 'C:/Image/'\n",
    "file_name = 'LYW169_YichenGuo_02172025'\n",
    "upload_to_datafed(file_path, file_name, growth_para=d, dataset_id='c/517624867', wait=False)"
   ]
  },
  {
   "cell_type": "code",
   "execution_count": null,
   "id": "87a02501-a18b-4fe6-91d6-b5eb61b510af",
   "metadata": {},
   "outputs": [],
   "source": []
  },
  {
   "cell_type": "code",
   "execution_count": null,
   "id": "35c64364-b77a-4444-b4e5-40e0e4999d80",
   "metadata": {},
   "outputs": [],
   "source": []
  },
  {
   "cell_type": "code",
   "execution_count": null,
   "id": "5eaeba5c-df0b-4aeb-b701-08dda10851b1",
   "metadata": {},
   "outputs": [],
   "source": []
  },
  {
   "cell_type": "code",
   "execution_count": 1,
   "id": "fdc33ef2-41b3-49ef-983a-9e39625cb0ec",
   "metadata": {
    "scrolled": true
   },
   "outputs": [
    {
     "ename": "ZMQError",
     "evalue": "Not supported",
     "output_type": "error",
     "traceback": [
      "\u001b[1;31m---------------------------------------------------------------------------\u001b[0m",
      "\u001b[1;31mFileNotFoundError\u001b[0m                         Traceback (most recent call last)",
      "File \u001b[1;32m~\\.conda\\envs\\plume\\lib\\site-packages\\datafed\\MessageLib.py:163\u001b[0m, in \u001b[0;36mAPI.__init__\u001b[1;34m(self, server_host, server_port, server_pub_key_file, server_pub_key, client_pub_key_file, client_pub_key, client_priv_key_file, client_priv_key, client_token, manual_auth, **kwargs)\u001b[0m\n\u001b[0;32m    162\u001b[0m \u001b[38;5;28;01mif\u001b[39;00m client_pub_key_file:\n\u001b[1;32m--> 163\u001b[0m     keyf \u001b[38;5;241m=\u001b[39m \u001b[38;5;28;43mopen\u001b[39;49m\u001b[43m(\u001b[49m\u001b[43mclient_pub_key_file\u001b[49m\u001b[43m,\u001b[49m\u001b[43m \u001b[49m\u001b[38;5;124;43m\"\u001b[39;49m\u001b[38;5;124;43mr\u001b[39;49m\u001b[38;5;124;43m\"\u001b[39;49m\u001b[43m)\u001b[49m\n\u001b[0;32m    164\u001b[0m     _client_pub_key \u001b[38;5;241m=\u001b[39m keyf\u001b[38;5;241m.\u001b[39mread()\n",
      "\u001b[1;31mFileNotFoundError\u001b[0m: [Errno 2] No such file or directory: 'C:\\\\Users\\\\m3l/.datafed\\\\datafed-user-key.pub'",
      "\nDuring handling of the above exception, another exception occurred:\n",
      "\u001b[1;31mZMQError\u001b[0m                                  Traceback (most recent call last)",
      "Cell \u001b[1;32mIn[1], line 4\u001b[0m\n\u001b[0;32m      2\u001b[0m \u001b[38;5;28;01mimport\u001b[39;00m \u001b[38;5;21;01mjson\u001b[39;00m\n\u001b[0;32m      3\u001b[0m \u001b[38;5;28;01mfrom\u001b[39;00m \u001b[38;5;21;01mdatafed\u001b[39;00m\u001b[38;5;21;01m.\u001b[39;00m\u001b[38;5;21;01mCommandLib\u001b[39;00m \u001b[38;5;28;01mimport\u001b[39;00m API\n\u001b[1;32m----> 4\u001b[0m df_api \u001b[38;5;241m=\u001b[39m \u001b[43mAPI\u001b[49m\u001b[43m(\u001b[49m\u001b[43m)\u001b[49m\n",
      "File \u001b[1;32m~\\.conda\\envs\\plume\\lib\\site-packages\\datafed\\CommandLib.py:81\u001b[0m, in \u001b[0;36mAPI.__init__\u001b[1;34m(self, opts)\u001b[0m\n\u001b[0;32m     78\u001b[0m \u001b[38;5;28mself\u001b[39m\u001b[38;5;241m.\u001b[39mcfg \u001b[38;5;241m=\u001b[39m Config\u001b[38;5;241m.\u001b[39mAPI(opts)\n\u001b[0;32m     79\u001b[0m _opts \u001b[38;5;241m=\u001b[39m \u001b[38;5;28mself\u001b[39m\u001b[38;5;241m.\u001b[39m_setSaneDefaultOptions()\n\u001b[1;32m---> 81\u001b[0m \u001b[38;5;28mself\u001b[39m\u001b[38;5;241m.\u001b[39m_mapi \u001b[38;5;241m=\u001b[39m MessageLib\u001b[38;5;241m.\u001b[39mAPI(\u001b[38;5;241m*\u001b[39m\u001b[38;5;241m*\u001b[39m_opts)\n\u001b[0;32m     82\u001b[0m \u001b[38;5;28mself\u001b[39m\u001b[38;5;241m.\u001b[39m_mapi\u001b[38;5;241m.\u001b[39msetNackExceptionEnabled(\u001b[38;5;28;01mTrue\u001b[39;00m)\n\u001b[0;32m     83\u001b[0m auth, uid \u001b[38;5;241m=\u001b[39m \u001b[38;5;28mself\u001b[39m\u001b[38;5;241m.\u001b[39m_mapi\u001b[38;5;241m.\u001b[39mgetAuthStatus()\n",
      "File \u001b[1;32m~\\.conda\\envs\\plume\\lib\\site-packages\\datafed\\MessageLib.py:186\u001b[0m, in \u001b[0;36mAPI.__init__\u001b[1;34m(self, server_host, server_port, server_pub_key_file, server_pub_key, client_pub_key_file, client_pub_key, client_priv_key_file, client_priv_key, client_token, manual_auth, **kwargs)\u001b[0m\n\u001b[0;32m    184\u001b[0m     \u001b[38;5;28mprint\u001b[39m\n\u001b[0;32m    185\u001b[0m \u001b[38;5;28;01mexcept\u001b[39;00m \u001b[38;5;167;01mBaseException\u001b[39;00m:\n\u001b[1;32m--> 186\u001b[0m     pub, priv \u001b[38;5;241m=\u001b[39m \u001b[43mzmq\u001b[49m\u001b[38;5;241;43m.\u001b[39;49m\u001b[43mcurve_keypair\u001b[49m\u001b[43m(\u001b[49m\u001b[43m)\u001b[49m\n\u001b[0;32m    187\u001b[0m     _client_pub_key \u001b[38;5;241m=\u001b[39m pub\u001b[38;5;241m.\u001b[39mdecode(\u001b[38;5;124m\"\u001b[39m\u001b[38;5;124mutf-8\u001b[39m\u001b[38;5;124m\"\u001b[39m)\n\u001b[0;32m    188\u001b[0m     _client_priv_key \u001b[38;5;241m=\u001b[39m priv\u001b[38;5;241m.\u001b[39mdecode(\u001b[38;5;124m\"\u001b[39m\u001b[38;5;124mutf-8\u001b[39m\u001b[38;5;124m\"\u001b[39m)\n",
      "File \u001b[1;32mzmq/backend/cython/utils.pyx:60\u001b[0m, in \u001b[0;36mzmq.backend.cython.utils.curve_keypair\u001b[1;34m()\u001b[0m\n",
      "File \u001b[1;32m~\\.conda\\envs\\plume\\lib\\site-packages\\zmq\\error.py:149\u001b[0m, in \u001b[0;36m_check_rc\u001b[1;34m(rc, errno, error_without_errno)\u001b[0m\n\u001b[0;32m    147\u001b[0m     \u001b[38;5;28;01mraise\u001b[39;00m ContextTerminated(errno)\n\u001b[0;32m    148\u001b[0m \u001b[38;5;28;01melse\u001b[39;00m:\n\u001b[1;32m--> 149\u001b[0m     \u001b[38;5;28;01mraise\u001b[39;00m ZMQError(errno)\n",
      "\u001b[1;31mZMQError\u001b[0m: Not supported"
     ]
    }
   ],
   "source": [
    "import os\n",
    "import json\n",
    "from datafed.CommandLib import API\n",
    "df_api = API()"
   ]
  },
  {
   "cell_type": "code",
   "execution_count": null,
   "id": "cd14e96e",
   "metadata": {},
   "outputs": [],
   "source": [
    "file_path = 'C:/Image/'\n",
    "file_name = 'YG053_YichenGuo_06172024'\n",
    "upload_to_datafed(file_path, file_name, growth_para=d, dataset_id='c/520785518', wait=False)"
   ]
  },
  {
   "cell_type": "code",
   "execution_count": null,
   "id": "8d62cfaf-eafa-4764-848f-ecebe4af2124",
   "metadata": {},
   "outputs": [],
   "source": []
  },
  {
   "cell_type": "code",
   "execution_count": 1,
   "id": "0e805d8c-9790-4fa1-bdb3-710570984c6c",
   "metadata": {},
   "outputs": [],
   "source": [
    "import sys\n",
    "sys.path.append('../')\n",
    "import glob\n",
    "import matplotlib.pyplot as plt\n",
    "import numpy as np\n",
    "from ManagePlume import pack_to_hdf5, upload_to_datafed"
   ]
  },
  {
   "cell_type": "code",
   "execution_count": 35,
   "id": "1bc3a081",
   "metadata": {},
   "outputs": [
    {
     "name": "stdout",
     "output_type": "stream",
     "text": [
      "C:/Image/LYW160_YichenGuo_09192024\\1-BSRO/BMP\\Camera_15_47_36\n"
     ]
    }
   ],
   "source": [
    "for folder in glob.glob('C:/Image/LYW160_YichenGuo_09192024/*'):\n",
    "#     print(folder)\n",
    "    for subfolder in glob.glob(folder+'/BMP/*'):\n",
    "#         print(subfolder)\n",
    "        values = []\n",
    "        for file in glob.glob(subfolder+'/*.bmp'):\n",
    "#             print(file)\n",
    "            img = plt.imread(file)\n",
    "            values.append(np.sum(img))\n",
    "        if np.sum(values) < 0.1*62016378:\n",
    "            print(subfolder)"
   ]
  },
  {
   "cell_type": "code",
   "execution_count": 36,
   "id": "63665877",
   "metadata": {},
   "outputs": [
    {
     "name": "stdout",
     "output_type": "stream",
     "text": [
      "Packing to hdf5...\n",
      "Done!\n"
     ]
    }
   ],
   "source": [
    "file_path = 'C:/Image/'\n",
    "file_name = 'LYW160_YichenGuo_09192024'\n",
    "pack_to_hdf5(file_path, file_name)"
   ]
  },
  {
   "cell_type": "code",
   "execution_count": null,
   "id": "df7c9627",
   "metadata": {},
   "outputs": [],
   "source": []
  },
  {
   "cell_type": "code",
   "execution_count": 37,
   "id": "446ec1da",
   "metadata": {},
   "outputs": [
    {
     "name": "stdout",
     "output_type": "stream",
     "text": [
      "C:/Image/LYW161_YichenGuo_09212024\\1-BSRO/BMP\\Camera_21_33_55\n",
      "C:/Image/LYW161_YichenGuo_09212024\\1-BSRO/BMP\\Camera_21_45_11\n",
      "C:/Image/LYW161_YichenGuo_09212024\\2-BaTiO3/BMP\\Camera_22_12_36\n",
      "C:/Image/LYW161_YichenGuo_09212024\\2-BaTiO3/BMP\\Camera_22_22_47\n"
     ]
    }
   ],
   "source": [
    "for folder in glob.glob('C:/Image/LYW161_YichenGuo_09212024/*'):\n",
    "#     print(folder)\n",
    "    for subfolder in glob.glob(folder+'/BMP/*'):\n",
    "#         print(subfolder)\n",
    "        values = []\n",
    "        for file in glob.glob(subfolder+'/*.bmp'):\n",
    "#             print(file)\n",
    "            img = plt.imread(file)\n",
    "            values.append(np.sum(img))\n",
    "        if np.sum(values) < 0.1*62016378:\n",
    "            print(subfolder)"
   ]
  },
  {
   "cell_type": "code",
   "execution_count": 38,
   "id": "0ca5c0b3",
   "metadata": {},
   "outputs": [
    {
     "name": "stdout",
     "output_type": "stream",
     "text": [
      "Packing to hdf5...\n",
      "Done!\n"
     ]
    }
   ],
   "source": [
    "file_path = 'C:/Image/'\n",
    "file_name = 'LYW161_YichenGuo_09212024'\n",
    "pack_to_hdf5(file_path, file_name)"
   ]
  },
  {
   "cell_type": "code",
   "execution_count": null,
   "id": "66d8dcdf",
   "metadata": {},
   "outputs": [],
   "source": []
  },
  {
   "cell_type": "code",
   "execution_count": null,
   "id": "85168e27",
   "metadata": {},
   "outputs": [],
   "source": []
  },
  {
   "cell_type": "code",
   "execution_count": 33,
   "id": "9330cb38",
   "metadata": {},
   "outputs": [
    {
     "name": "stdout",
     "output_type": "stream",
     "text": [
      "C:/Image/LYW159_YichenGuo_09162024\\1-BaTiO3@4/BMP\\Camera_16_35_39\n"
     ]
    }
   ],
   "source": [
    "for folder in glob.glob('C:/Image/LYW159_YichenGuo_09162024/*'):\n",
    "#     print(folder)\n",
    "    for subfolder in glob.glob(folder+'/BMP/*'):\n",
    "#         print(subfolder)\n",
    "        values = []\n",
    "        for file in glob.glob(subfolder+'/*.bmp'):\n",
    "#             print(file)\n",
    "            img = plt.imread(file)\n",
    "            values.append(np.sum(img))\n",
    "        if np.sum(values) < 0.1*62016378:\n",
    "            print(subfolder)"
   ]
  },
  {
   "cell_type": "code",
   "execution_count": 34,
   "id": "13886d68",
   "metadata": {},
   "outputs": [
    {
     "name": "stdout",
     "output_type": "stream",
     "text": [
      "Packing to hdf5...\n",
      "Done!\n"
     ]
    }
   ],
   "source": [
    "file_path = 'C:/Image/'\n",
    "file_name = 'LYW159_YichenGuo_09162024'\n",
    "pack_to_hdf5(file_path, file_name)"
   ]
  },
  {
   "cell_type": "code",
   "execution_count": null,
   "id": "29bac5d1",
   "metadata": {},
   "outputs": [],
   "source": []
  },
  {
   "cell_type": "code",
   "execution_count": null,
   "id": "06f1f8f3",
   "metadata": {},
   "outputs": [],
   "source": []
  },
  {
   "cell_type": "code",
   "execution_count": 31,
   "id": "99566f9d",
   "metadata": {},
   "outputs": [],
   "source": [
    "for folder in glob.glob('C:/Image/YG069_YichenGuo_09152024/*'):\n",
    "#     print(folder)\n",
    "    for subfolder in glob.glob(folder+'/BMP/*'):\n",
    "#         print(subfolder)\n",
    "        values = []\n",
    "        for file in glob.glob(subfolder+'/*.bmp'):\n",
    "#             print(file)\n",
    "            img = plt.imread(file)\n",
    "            values.append(np.sum(img))\n",
    "        if np.sum(values) < 0.1*62016378:\n",
    "            print(subfolder)"
   ]
  },
  {
   "cell_type": "code",
   "execution_count": 32,
   "id": "7b6f4b89",
   "metadata": {},
   "outputs": [
    {
     "name": "stdout",
     "output_type": "stream",
     "text": [
      "Packing to hdf5...\n",
      "Done!\n"
     ]
    }
   ],
   "source": [
    "file_path = 'C:/Image/'\n",
    "file_name = 'YG069_YichenGuo_09152024'\n",
    "pack_to_hdf5(file_path, file_name)"
   ]
  },
  {
   "cell_type": "code",
   "execution_count": null,
   "id": "6541d17a",
   "metadata": {},
   "outputs": [],
   "source": []
  },
  {
   "cell_type": "code",
   "execution_count": 26,
   "id": "6a71eb09",
   "metadata": {},
   "outputs": [
    {
     "name": "stdout",
     "output_type": "stream",
     "text": [
      "C:/Image/YG068_YichenGuo_09132024\\1-SrRuO3/BMP\\Camera_15_36_47\n"
     ]
    }
   ],
   "source": [
    "for folder in glob.glob('C:/Image/YG068_YichenGuo_09132024/*'):\n",
    "#     print(folder)\n",
    "    for subfolder in glob.glob(folder+'/BMP/*'):\n",
    "#         print(subfolder)\n",
    "        values = []\n",
    "        for file in glob.glob(subfolder+'/*.bmp'):\n",
    "#             print(file)\n",
    "            img = plt.imread(file)\n",
    "            values.append(np.sum(img))\n",
    "        if np.sum(values) < 0.1*62016378:\n",
    "            print(subfolder)"
   ]
  },
  {
   "cell_type": "code",
   "execution_count": 27,
   "id": "d29d3f77",
   "metadata": {},
   "outputs": [
    {
     "name": "stdout",
     "output_type": "stream",
     "text": [
      "Packing to hdf5...\n",
      "Done!\n"
     ]
    }
   ],
   "source": [
    "file_path = 'C:/Image/'\n",
    "file_name = 'YG068_YichenGuo_09132024'\n",
    "pack_to_hdf5(file_path, file_name)"
   ]
  },
  {
   "cell_type": "code",
   "execution_count": null,
   "id": "584fc5d8",
   "metadata": {},
   "outputs": [],
   "source": []
  },
  {
   "cell_type": "code",
   "execution_count": null,
   "id": "db7cb288",
   "metadata": {},
   "outputs": [],
   "source": []
  },
  {
   "cell_type": "code",
   "execution_count": 21,
   "id": "25e0bc73",
   "metadata": {
    "scrolled": true
   },
   "outputs": [],
   "source": [
    "for folder in glob.glob('C:/Image/YG067_YichenGuo_09122024/*'):\n",
    "#     print(folder)\n",
    "    for subfolder in glob.glob(folder+'/BMP/*'):\n",
    "#         print(subfolder)\n",
    "        values = []\n",
    "        for file in glob.glob(subfolder+'/*.bmp'):\n",
    "#             print(file)\n",
    "            img = plt.imread(file)\n",
    "            values.append(np.sum(img))\n",
    "        if np.sum(values) < 0.1*62016378:\n",
    "            print(subfolder)"
   ]
  },
  {
   "cell_type": "code",
   "execution_count": 22,
   "id": "8dae8a53",
   "metadata": {},
   "outputs": [
    {
     "name": "stdout",
     "output_type": "stream",
     "text": [
      "Packing to hdf5...\n",
      "Done!\n"
     ]
    }
   ],
   "source": [
    "file_path = 'C:/Image/'\n",
    "file_name = 'YG067_YichenGuo_09122024'\n",
    "pack_to_hdf5(file_path, file_name)"
   ]
  },
  {
   "cell_type": "code",
   "execution_count": null,
   "id": "422576f5",
   "metadata": {},
   "outputs": [],
   "source": []
  },
  {
   "cell_type": "code",
   "execution_count": null,
   "id": "597f35f2-da84-4791-8ed9-8594364b2b7a",
   "metadata": {},
   "outputs": [],
   "source": [
    "import sys\n",
    "sys.path.append('../')\n",
    "import glob\n",
    "import matplotlib.pyplot as plt\n",
    "import numpy as np\n",
    "from ManagePlume import pack_to_hdf5, upload_to_datafed\n",
    "\n",
    "file_path = 'C:/Image/'\n",
    "file_name = 'YG066_YichenGuo_09112024'\n",
    "pack_to_hdf5(file_path, file_name)"
   ]
  },
  {
   "cell_type": "code",
   "execution_count": null,
   "id": "cd978458-71e8-4777-a8ab-c6a6b14d5898",
   "metadata": {},
   "outputs": [],
   "source": []
  },
  {
   "cell_type": "code",
   "execution_count": 10,
   "id": "689e1486-ac1c-415e-af22-e80b7633d82b",
   "metadata": {},
   "outputs": [
    {
     "name": "stdout",
     "output_type": "stream",
     "text": [
      "Packing to hdf5...\n",
      "Done!\n"
     ]
    }
   ],
   "source": [
    "import sys\n",
    "sys.path.append('../')\n",
    "import glob\n",
    "from ManagePlume import pack_to_hdf5, upload_to_datafed\n",
    "\n",
    "file_path = 'C:/Image/'\n",
    "file_name = 'YG065_YichenGuo_09102024'\n",
    "pack_to_hdf5(file_path, file_name)"
   ]
  },
  {
   "cell_type": "code",
   "execution_count": 11,
   "id": "9ca4c1c3",
   "metadata": {},
   "outputs": [
    {
     "data": {
      "text/plain": [
       "{'header': {'Growth ID': 'YG065',\n",
       "  'User Name': 'YichenGuo',\n",
       "  'Date': '09/10/2024',\n",
       "  'time': '12:04:25',\n",
       "  'Path': 'C:\\\\Image',\n",
       "  'Chamber': 'Laser 1A',\n",
       "  'Substrate_1': 'SrTiO3',\n",
       "  'Cool Down Atmosphere': 'Vacuum',\n",
       "  'Notes': '32.8 to 31.7mJ'},\n",
       " 'target_1': {'Target Material': 'SrRuO3',\n",
       "  'Laser Voltage(kV)': 23.3,\n",
       "  'Laser Energy(mJ)': '1.6 mJ/cm^2',\n",
       "  'Measured Energy Mean(mJ)': 32.8,\n",
       "  'Pre-Ablation-Temperature(°C)': 'room temperature',\n",
       "  'Pre-Ablation-Pressure(mTorr)': 100.0,\n",
       "  'Pre-Ablation-Gas Atmosphere': 'Oxygen',\n",
       "  'Pre-Ablation-Frequency(Hz)': 5.0,\n",
       "  'Pre-Ablation-Pulses': 5000.0,\n",
       "  'Ablation-Temperature(°C)': 700.0,\n",
       "  'Ablation-Pressure(mTorr)': 100.0,\n",
       "  'Ablation-Atmosphere Gas': 'Oxygen',\n",
       "  'Ablation-Frequency(Hz)': 5.0}}"
      ]
     },
     "execution_count": 11,
     "metadata": {},
     "output_type": "execute_result"
    }
   ],
   "source": [
    "import json\n",
    "with open('C:/Image/YG065_YichenGuo_09102024.json') as f:\n",
    "    d = json.load(f)\n",
    "d"
   ]
  },
  {
   "cell_type": "code",
   "execution_count": null,
   "id": "3098041d-8cab-44ca-b912-2679c8ae6e09",
   "metadata": {},
   "outputs": [],
   "source": []
  },
  {
   "cell_type": "code",
   "execution_count": null,
   "id": "5eb3fdef-f8f8-45d4-b89e-9167dc4e2080",
   "metadata": {},
   "outputs": [],
   "source": []
  },
  {
   "cell_type": "code",
   "execution_count": null,
   "id": "c6740668-19b7-4e69-8042-eeafe8a99da0",
   "metadata": {},
   "outputs": [],
   "source": []
  },
  {
   "cell_type": "code",
   "execution_count": 1,
   "id": "b811665b",
   "metadata": {},
   "outputs": [],
   "source": [
    "import sys\n",
    "sys.path.append('../')\n",
    "import glob\n",
    "\n",
    "from ManagePlume import pack_to_hdf5, upload_to_datafed"
   ]
  },
  {
   "cell_type": "code",
   "execution_count": 13,
   "id": "514e5778-6fa7-4ed1-ac00-6e62a9f1c4a2",
   "metadata": {},
   "outputs": [
    {
     "name": "stdout",
     "output_type": "stream",
     "text": [
      "SRO_Plume_Mapping_100mTorr_YichenGuo_08042024\n",
      "SRO_Plume_Mapping_125mTorr_YichenGuo_08042024\n",
      "SRO_Plume_Mapping_150mTorr_YichenGuo_08042024\n",
      "SRO_Plume_Mapping_175mTorr_YichenGuo_08042024\n",
      "SRO_Plume_Mapping_200mTorr_YichenGuo_08042024\n",
      "SRO_Plume_Mapping_50mTorr_YichenGuo_08042024\n",
      "SRO_Plume_Mapping_75mTorr_YichenGuo_08042024\n"
     ]
    }
   ],
   "source": [
    "for file_name in glob.glob('C:/Image/YG063_YichenGuo_08042024/'):\n",
    "    print(os.path.basename(file_name))"
   ]
  },
  {
   "cell_type": "code",
   "execution_count": null,
   "id": "ab7a2629-d6ed-4e44-9607-760c39de5867",
   "metadata": {},
   "outputs": [],
   "source": []
  },
  {
   "cell_type": "code",
   "execution_count": 14,
   "id": "a3527c45",
   "metadata": {
    "scrolled": true
   },
   "outputs": [
    {
     "name": "stdout",
     "output_type": "stream",
     "text": [
      "SRO_Plume_Mapping_100mTorr_YichenGuo_08042024\n",
      "Packing to hdf5...\n",
      "Done!\n",
      "SRO_Plume_Mapping_125mTorr_YichenGuo_08042024\n",
      "Packing to hdf5...\n",
      "Done!\n",
      "SRO_Plume_Mapping_150mTorr_YichenGuo_08042024\n",
      "Packing to hdf5...\n",
      "Done!\n",
      "SRO_Plume_Mapping_175mTorr_YichenGuo_08042024\n",
      "Packing to hdf5...\n",
      "Done!\n",
      "SRO_Plume_Mapping_200mTorr_YichenGuo_08042024\n",
      "Packing to hdf5...\n",
      "Done!\n",
      "SRO_Plume_Mapping_50mTorr_YichenGuo_08042024\n",
      "Packing to hdf5...\n",
      "Done!\n",
      "SRO_Plume_Mapping_75mTorr_YichenGuo_08042024\n",
      "Packing to hdf5...\n",
      "Done!\n"
     ]
    }
   ],
   "source": [
    "file_path = 'C:/Image/'\n",
    "for file_name in glob.glob('C:/Image/SRO_Plume_Mapping_*mTorr_YichenGuo_08042024'):\n",
    "    print(os.path.basename(file_name))\n",
    "    # file_name = 'BTO_Plume_Variation_YichenGuo_07182024'\n",
    "    pack_to_hdf5(file_path, os.path.basename(file_name))"
   ]
  },
  {
   "cell_type": "code",
   "execution_count": null,
   "id": "a0de9da3-252d-4ae2-bbed-b33649cba782",
   "metadata": {},
   "outputs": [],
   "source": []
  },
  {
   "cell_type": "code",
   "execution_count": 3,
   "id": "d26e3662",
   "metadata": {},
   "outputs": [
    {
     "data": {
      "text/plain": [
       "{'header': {'Growth ID': 'YG054',\n",
       "  'User Name': 'YichenGuo',\n",
       "  'Date': '06/25/2024',\n",
       "  'time': '14:36:30',\n",
       "  'Path': 'C:\\\\Image',\n",
       "  'Chamber': 'Laser 1A',\n",
       "  'Cool Down Atmosphere': 'Vacuum',\n",
       "  'Notes': 'Fluence is 1.6J/cm^2.'},\n",
       " 'target_1': {'Target Material': 'SrTiO3',\n",
       "  'Laser Energy(mJ)': '1.6J/cm^2',\n",
       "  'Ablation-Temperature(°C)': 800.0,\n",
       "  'Ablation-Pressure(mTorr)': 75.0,\n",
       "  'Ablation-Atmosphere Gas': 'Oxygen',\n",
       "  'Ablation-Frequency(Hz)': 5.0,\n",
       "  'Ablation-Pulses': 7000.0}}"
      ]
     },
     "execution_count": 3,
     "metadata": {},
     "output_type": "execute_result"
    }
   ],
   "source": [
    "import json\n",
    "with open('C:/Image/IB029_Irina Baraban_07152024.json') as f:\n",
    "    d = json.load(f)\n",
    "d"
   ]
  },
  {
   "cell_type": "code",
   "execution_count": 6,
   "id": "ed5aa9f5",
   "metadata": {
    "scrolled": true
   },
   "outputs": [
    {
     "name": "stdout",
     "output_type": "stream",
     "text": [
      "Uploading to Datafed...\n"
     ]
    },
    {
     "ename": "ZMQError",
     "evalue": "Not supported",
     "output_type": "error",
     "traceback": [
      "\u001b[1;31m---------------------------------------------------------------------------\u001b[0m",
      "\u001b[1;31mFileNotFoundError\u001b[0m                         Traceback (most recent call last)",
      "File \u001b[1;32m~\\.conda\\envs\\plume\\lib\\site-packages\\datafed\\MessageLib.py:163\u001b[0m, in \u001b[0;36mAPI.__init__\u001b[1;34m(self, server_host, server_port, server_pub_key_file, server_pub_key, client_pub_key_file, client_pub_key, client_priv_key_file, client_priv_key, client_token, manual_auth, **kwargs)\u001b[0m\n\u001b[0;32m    162\u001b[0m \u001b[38;5;28;01mif\u001b[39;00m client_pub_key_file:\n\u001b[1;32m--> 163\u001b[0m     keyf \u001b[38;5;241m=\u001b[39m \u001b[38;5;28;43mopen\u001b[39;49m\u001b[43m(\u001b[49m\u001b[43mclient_pub_key_file\u001b[49m\u001b[43m,\u001b[49m\u001b[43m \u001b[49m\u001b[38;5;124;43m\"\u001b[39;49m\u001b[38;5;124;43mr\u001b[39;49m\u001b[38;5;124;43m\"\u001b[39;49m\u001b[43m)\u001b[49m\n\u001b[0;32m    164\u001b[0m     _client_pub_key \u001b[38;5;241m=\u001b[39m keyf\u001b[38;5;241m.\u001b[39mread()\n",
      "\u001b[1;31mFileNotFoundError\u001b[0m: [Errno 2] No such file or directory: 'C:\\\\Users\\\\m3l/.datafed\\\\datafed-user-key.pub'",
      "\nDuring handling of the above exception, another exception occurred:\n",
      "\u001b[1;31mZMQError\u001b[0m                                  Traceback (most recent call last)",
      "Cell \u001b[1;32mIn[6], line 3\u001b[0m\n\u001b[0;32m      1\u001b[0m file_path \u001b[38;5;241m=\u001b[39m \u001b[38;5;124m'\u001b[39m\u001b[38;5;124mC:/Image/\u001b[39m\u001b[38;5;124m'\u001b[39m\n\u001b[0;32m      2\u001b[0m file_name \u001b[38;5;241m=\u001b[39m \u001b[38;5;124m'\u001b[39m\u001b[38;5;124mYG053_YichenGuo_06172024\u001b[39m\u001b[38;5;124m'\u001b[39m\n\u001b[1;32m----> 3\u001b[0m \u001b[43mupload_to_datafed\u001b[49m\u001b[43m(\u001b[49m\u001b[43mfile_path\u001b[49m\u001b[43m,\u001b[49m\u001b[43m \u001b[49m\u001b[43mfile_name\u001b[49m\u001b[43m,\u001b[49m\u001b[43m \u001b[49m\u001b[43mgrowth_para\u001b[49m\u001b[38;5;241;43m=\u001b[39;49m\u001b[43md\u001b[49m\u001b[43m,\u001b[49m\u001b[43m \u001b[49m\u001b[43mdataset_id\u001b[49m\u001b[38;5;241;43m=\u001b[39;49m\u001b[38;5;124;43m'\u001b[39;49m\u001b[38;5;124;43mc/520785518\u001b[39;49m\u001b[38;5;124;43m'\u001b[39;49m\u001b[43m,\u001b[49m\u001b[43m \u001b[49m\u001b[43mwait\u001b[49m\u001b[38;5;241;43m=\u001b[39;49m\u001b[38;5;28;43;01mFalse\u001b[39;49;00m\u001b[43m)\u001b[49m\n",
      "File \u001b[1;32m~\\Documents\\PLD_Workflow\\examples\\..\\ManagePlume.py:171\u001b[0m, in \u001b[0;36mupload_to_datafed\u001b[1;34m(file_path, file_name, growth_para, dataset_id, wait)\u001b[0m\n\u001b[0;32m    150\u001b[0m \u001b[38;5;250m\u001b[39m\u001b[38;5;124;03m'''\u001b[39;00m\n\u001b[0;32m    151\u001b[0m \u001b[38;5;124;03mThis function will upload a hdf5 file to DataFed server with specified \"dataset_id\"\u001b[39;00m\n\u001b[0;32m    152\u001b[0m \u001b[38;5;124;03mAn Globus Endpoint is required to set up in local server before use this funciton  \u001b[39;00m\n\u001b[1;32m   (...)\u001b[0m\n\u001b[0;32m    165\u001b[0m \n\u001b[0;32m    166\u001b[0m \u001b[38;5;124;03m'''\u001b[39;00m\n\u001b[0;32m    169\u001b[0m \u001b[38;5;28mprint\u001b[39m(\u001b[38;5;124m'\u001b[39m\u001b[38;5;124mUploading to Datafed...\u001b[39m\u001b[38;5;124m'\u001b[39m)\n\u001b[1;32m--> 171\u001b[0m df_api \u001b[38;5;241m=\u001b[39m \u001b[43mAPI\u001b[49m\u001b[43m(\u001b[49m\u001b[43m)\u001b[49m\n\u001b[0;32m    172\u001b[0m dc_resp \u001b[38;5;241m=\u001b[39m df_api\u001b[38;5;241m.\u001b[39mdataCreate(file_name,\n\u001b[0;32m    173\u001b[0m                             metadata\u001b[38;5;241m=\u001b[39mjson\u001b[38;5;241m.\u001b[39mdumps(growth_para),\n\u001b[0;32m    174\u001b[0m                             parent_id\u001b[38;5;241m=\u001b[39mdataset_id, \u001b[38;5;66;03m# parent collection\u001b[39;00m\n\u001b[0;32m    175\u001b[0m                            )\n\u001b[0;32m    176\u001b[0m rec_id \u001b[38;5;241m=\u001b[39m dc_resp[\u001b[38;5;241m0\u001b[39m]\u001b[38;5;241m.\u001b[39mdata[\u001b[38;5;241m0\u001b[39m]\u001b[38;5;241m.\u001b[39mid\n",
      "File \u001b[1;32m~\\.conda\\envs\\plume\\lib\\site-packages\\datafed\\CommandLib.py:81\u001b[0m, in \u001b[0;36mAPI.__init__\u001b[1;34m(self, opts)\u001b[0m\n\u001b[0;32m     78\u001b[0m \u001b[38;5;28mself\u001b[39m\u001b[38;5;241m.\u001b[39mcfg \u001b[38;5;241m=\u001b[39m Config\u001b[38;5;241m.\u001b[39mAPI(opts)\n\u001b[0;32m     79\u001b[0m _opts \u001b[38;5;241m=\u001b[39m \u001b[38;5;28mself\u001b[39m\u001b[38;5;241m.\u001b[39m_setSaneDefaultOptions()\n\u001b[1;32m---> 81\u001b[0m \u001b[38;5;28mself\u001b[39m\u001b[38;5;241m.\u001b[39m_mapi \u001b[38;5;241m=\u001b[39m MessageLib\u001b[38;5;241m.\u001b[39mAPI(\u001b[38;5;241m*\u001b[39m\u001b[38;5;241m*\u001b[39m_opts)\n\u001b[0;32m     82\u001b[0m \u001b[38;5;28mself\u001b[39m\u001b[38;5;241m.\u001b[39m_mapi\u001b[38;5;241m.\u001b[39msetNackExceptionEnabled(\u001b[38;5;28;01mTrue\u001b[39;00m)\n\u001b[0;32m     83\u001b[0m auth, uid \u001b[38;5;241m=\u001b[39m \u001b[38;5;28mself\u001b[39m\u001b[38;5;241m.\u001b[39m_mapi\u001b[38;5;241m.\u001b[39mgetAuthStatus()\n",
      "File \u001b[1;32m~\\.conda\\envs\\plume\\lib\\site-packages\\datafed\\MessageLib.py:186\u001b[0m, in \u001b[0;36mAPI.__init__\u001b[1;34m(self, server_host, server_port, server_pub_key_file, server_pub_key, client_pub_key_file, client_pub_key, client_priv_key_file, client_priv_key, client_token, manual_auth, **kwargs)\u001b[0m\n\u001b[0;32m    184\u001b[0m     \u001b[38;5;28mprint\u001b[39m\n\u001b[0;32m    185\u001b[0m \u001b[38;5;28;01mexcept\u001b[39;00m \u001b[38;5;167;01mBaseException\u001b[39;00m:\n\u001b[1;32m--> 186\u001b[0m     pub, priv \u001b[38;5;241m=\u001b[39m \u001b[43mzmq\u001b[49m\u001b[38;5;241;43m.\u001b[39;49m\u001b[43mcurve_keypair\u001b[49m\u001b[43m(\u001b[49m\u001b[43m)\u001b[49m\n\u001b[0;32m    187\u001b[0m     _client_pub_key \u001b[38;5;241m=\u001b[39m pub\u001b[38;5;241m.\u001b[39mdecode(\u001b[38;5;124m\"\u001b[39m\u001b[38;5;124mutf-8\u001b[39m\u001b[38;5;124m\"\u001b[39m)\n\u001b[0;32m    188\u001b[0m     _client_priv_key \u001b[38;5;241m=\u001b[39m priv\u001b[38;5;241m.\u001b[39mdecode(\u001b[38;5;124m\"\u001b[39m\u001b[38;5;124mutf-8\u001b[39m\u001b[38;5;124m\"\u001b[39m)\n",
      "File \u001b[1;32mzmq/backend/cython/utils.pyx:60\u001b[0m, in \u001b[0;36mzmq.backend.cython.utils.curve_keypair\u001b[1;34m()\u001b[0m\n",
      "File \u001b[1;32m~\\.conda\\envs\\plume\\lib\\site-packages\\zmq\\error.py:149\u001b[0m, in \u001b[0;36m_check_rc\u001b[1;34m(rc, errno, error_without_errno)\u001b[0m\n\u001b[0;32m    147\u001b[0m     \u001b[38;5;28;01mraise\u001b[39;00m ContextTerminated(errno)\n\u001b[0;32m    148\u001b[0m \u001b[38;5;28;01melse\u001b[39;00m:\n\u001b[1;32m--> 149\u001b[0m     \u001b[38;5;28;01mraise\u001b[39;00m ZMQError(errno)\n",
      "\u001b[1;31mZMQError\u001b[0m: Not supported"
     ]
    }
   ],
   "source": [
    "file_path = 'C:/Image/'\n",
    "file_name = 'YG053_YichenGuo_06172024'\n",
    "upload_to_datafed(file_path, file_name, growth_para=d, dataset_id='c/520785518', wait=False)"
   ]
  },
  {
   "cell_type": "code",
   "execution_count": null,
   "id": "eed7e597",
   "metadata": {},
   "outputs": [],
   "source": []
  },
  {
   "cell_type": "code",
   "execution_count": 39,
   "id": "98c24a87",
   "metadata": {
    "scrolled": true
   },
   "outputs": [
    {
     "data": {
      "text/plain": [
       "{'header': {'Growth ID': 'PlumeMapping_1.5',\n",
       "  'User Name': 'YichenGuo',\n",
       "  'Date': '04/12/2024',\n",
       "  'time': '15:08:27',\n",
       "  'Path': 'C:\\\\Image',\n",
       "  'Chamber': 'Laser 1A',\n",
       "  'Cool Down Atmosphere': 'Vacuum',\n",
       "  'Notes': 'fluence(J/cm^2) = measured_energy/0.9(window loss)/2.28mm^2(spot size)\\n\\n1.5 J/cm^2 drop to 1.46 J/cm^2\\nGrowth order: from 140mTorr to 60mTorr'},\n",
       " 'target_1': {'Target Material': 'BaTiO3',\n",
       "  'Measured Energy Mean(mJ)': 30.8,\n",
       "  'Ablation-Pressure(mTorr)': 140.0},\n",
       " 'target_2': {'Target Material': 'BaTiO3', 'Ablation-Pressure(mTorr)': 130.0},\n",
       " 'target_3': {'Target Material': 'BaTiO3', 'Ablation-Pressure(mTorr)': 120.0},\n",
       " 'target_4': {'Target Material': 'BaTiO3', 'Ablation-Pressure(mTorr)': 110.0},\n",
       " 'target_5': {'Target Material': 'BaTiO3', 'Ablation-Pressure(mTorr)': 100.0},\n",
       " 'target_6': {'Target Material': 'BaTiO3', 'Ablation-Pressure(mTorr)': 90.0},\n",
       " 'target_7': {'Target Material': 'BaTiO3', 'Ablation-Pressure(mTorr)': 80.0},\n",
       " 'target_8': {'Target Material': 'BaTiO3', 'Ablation-Pressure(mTorr)': 70.0},\n",
       " 'target_9': {'Target Material': 'BaTiO3', 'Ablation-Pressure(mTorr)': 60.0},\n",
       " 'target_10': {'Target Material': 'BaTiO3_alignment'}}"
      ]
     },
     "execution_count": 39,
     "metadata": {},
     "output_type": "execute_result"
    }
   ],
   "source": [
    "import json\n",
    "with open('C:/Image/PlumeMapping_1.5_YichenGuo_04122024.json') as f:\n",
    "    d = json.load(f)\n",
    "d"
   ]
  },
  {
   "cell_type": "code",
   "execution_count": null,
   "id": "54a0502b",
   "metadata": {},
   "outputs": [],
   "source": []
  },
  {
   "cell_type": "code",
   "execution_count": 40,
   "id": "33b0eca3",
   "metadata": {},
   "outputs": [
    {
     "name": "stdout",
     "output_type": "stream",
     "text": [
      "Packing to hdf5...\n",
      "Done!\n"
     ]
    }
   ],
   "source": [
    "file_path = 'C:/Image/'\n",
    "file_name = 'PlumeMapping_1.5_YichenGuo_04122024'\n",
    "\n",
    "pack_to_hdf5(file_path, file_name)"
   ]
  },
  {
   "cell_type": "code",
   "execution_count": 41,
   "id": "562749aa",
   "metadata": {
    "scrolled": true
   },
   "outputs": [
    {
     "name": "stdout",
     "output_type": "stream",
     "text": [
      "Uploading to Datafed...\n",
      "Done!\n"
     ]
    },
    {
     "data": {
      "text/plain": [
       "(task {\n",
       "   id: \"task/518834642\"\n",
       "   type: TT_DATA_PUT\n",
       "   status: TS_SUCCEEDED\n",
       "   client: \"u/yig319\"\n",
       "   step: 3\n",
       "   steps: 4\n",
       "   msg: \"Finished\"\n",
       "   ct: 1713154073\n",
       "   ut: 1713154171\n",
       "   source: \"d727a7f4-baf5-11ee-84a8-f1441124ff66/C/Image/PlumeMapping_1.5_YichenGuo_04122024.h5\"\n",
       "   dest: \"d/518834627\"\n",
       " },\n",
       " 'TaskDataReply')"
      ]
     },
     "execution_count": 41,
     "metadata": {},
     "output_type": "execute_result"
    }
   ],
   "source": [
    "file_path = 'C:/Image/'\n",
    "file_name = 'PlumeMapping_1.5_YichenGuo_04122024'\n",
    "upload_to_datafed(file_path, file_name, growth_para=d, dataset_id='c/517624867')"
   ]
  },
  {
   "cell_type": "code",
   "execution_count": 42,
   "id": "e3557566",
   "metadata": {},
   "outputs": [
    {
     "name": "stdout",
     "output_type": "stream",
     "text": [
      "Uploading to Datafed...\n",
      "Done!\n"
     ]
    },
    {
     "data": {
      "text/plain": [
       "(task {\n",
       "   id: \"task/518835312\"\n",
       "   type: TT_DATA_PUT\n",
       "   status: TS_SUCCEEDED\n",
       "   client: \"u/yig319\"\n",
       "   step: 3\n",
       "   steps: 4\n",
       "   msg: \"Finished\"\n",
       "   ct: 1713154173\n",
       "   ut: 1713154270\n",
       "   source: \"d727a7f4-baf5-11ee-84a8-f1441124ff66/C/Image/PlumeMapping_1.25_YichenGuo_04122024.h5\"\n",
       "   dest: \"d/518835297\"\n",
       " },\n",
       " 'TaskDataReply')"
      ]
     },
     "execution_count": 42,
     "metadata": {},
     "output_type": "execute_result"
    }
   ],
   "source": [
    "file_path = 'C:/Image/'\n",
    "file_name = 'PlumeMapping_1.25_YichenGuo_04122024'\n",
    "upload_to_datafed(file_path, file_name, growth_para=d, dataset_id='c/517624867')"
   ]
  },
  {
   "cell_type": "code",
   "execution_count": null,
   "id": "46f44ebf",
   "metadata": {},
   "outputs": [],
   "source": []
  },
  {
   "cell_type": "code",
   "execution_count": null,
   "id": "1c673738",
   "metadata": {},
   "outputs": [],
   "source": []
  },
  {
   "cell_type": "code",
   "execution_count": null,
   "id": "7693016f",
   "metadata": {},
   "outputs": [],
   "source": []
  },
  {
   "cell_type": "code",
   "execution_count": null,
   "id": "d5f66a4d",
   "metadata": {},
   "outputs": [],
   "source": [
    "import json\n",
    "with open('C:/Image/LYW154_YichenGuo_03262024.json') as f:\n",
    "    d = json.load(f)\n",
    "    print(d)\n",
    "\n",
    "file_path = 'C:/Image'\n",
    "file_name = 'LYW154_YichenGuo_03262024'\n",
    "upload_to_datafed(file_path, file_name, growth_para=d, dataset_id='c/503917703')"
   ]
  },
  {
   "cell_type": "code",
   "execution_count": null,
   "id": "16799d5f",
   "metadata": {},
   "outputs": [],
   "source": []
  },
  {
   "cell_type": "code",
   "execution_count": null,
   "id": "f8a306dc",
   "metadata": {},
   "outputs": [],
   "source": [
    "file_path = 'C:/Image/'\n",
    "file_name = 'scan_wavelength'\n",
    "\n",
    "pack_to_hdf5(file_path, file_name)"
   ]
  },
  {
   "cell_type": "code",
   "execution_count": 2,
   "id": "ec634a09",
   "metadata": {},
   "outputs": [
    {
     "name": "stdout",
     "output_type": "stream",
     "text": [
      "{'header': {'Growth ID': 'BTO_001', 'User Name': 'YichenGuo_JulianGoddy', 'Date': '03/07/2024', 'time': '15:10:10', 'Path': 'C:\\\\Image/', 'Chamber': 'Laser 1A', 'Cool Down Atmosphere': 'Vacuum', 'Notes': 'Substrate: NSO'}, 'target_1': {'Target Material': 'BaTiO3', 'Aperture': '4*15', 'Laser Voltage(kV)': 24.5, 'Laser Energy(mJ)': 561.0, 'Measured Energy Mean(mJ)': '58.7-56.4', 'Pre-Ablation-Temperature(°C)': 700.0, 'Ablation-Temperature(°C)': 700.0, 'Ablation-Pressure(mTorr)': 110.0, 'Ablation-Atmosphere Gas': 'Oxygen', 'Ablation-Frequency(Hz)': 3.0, 'Ablation-Pulses': 7400.0}}\n",
      "Uploading to Datafed...\n"
     ]
    },
    {
     "name": "stderr",
     "output_type": "stream",
     "text": [
      "\n",
      "KeyboardInterrupt\n",
      "\n"
     ]
    }
   ],
   "source": [
    "import json\n",
    "with open('C:/Image/IB003_YichenGuo_03132024.json') as f:\n",
    "    d = json.load(f)\n",
    "    print(d)\n",
    "\n",
    "file_path = 'C:/Image'\n",
    "file_name = 'IB003_YichenGuo_03132024'\n",
    "upload_to_datafed(file_path, file_name, growth_para=d, dataset_id='c/503917703')"
   ]
  },
  {
   "cell_type": "code",
   "execution_count": null,
   "id": "94d978dc",
   "metadata": {},
   "outputs": [],
   "source": []
  },
  {
   "cell_type": "code",
   "execution_count": null,
   "id": "c32ba228",
   "metadata": {},
   "outputs": [],
   "source": [
    "import json\n",
    "with open('C:/Image/LYW153_YichenGuo_JulianGoddy_03142024.json') as f:\n",
    "    d = json.load(f)\n",
    "    print(d)\n",
    "    \n",
    "file_path = 'C:/Image'\n",
    "file_name = 'LYW153_YichenGuo_JulianGoddy_03142024'\n",
    "upload_to_datafed(file_path, file_name, growth_para=d, dataset_id='c/503917703')"
   ]
  },
  {
   "cell_type": "code",
   "execution_count": null,
   "id": "c227ffcc",
   "metadata": {},
   "outputs": [],
   "source": []
  },
  {
   "cell_type": "code",
   "execution_count": null,
   "id": "5d3064cb",
   "metadata": {},
   "outputs": [],
   "source": []
  },
  {
   "cell_type": "code",
   "execution_count": 6,
   "id": "2b250b92",
   "metadata": {},
   "outputs": [
    {
     "ename": "NameError",
     "evalue": "name 'pack_to_hdf5_and_upload' is not defined",
     "output_type": "error",
     "traceback": [
      "\u001b[1;31m---------------------------------------------------------------------------\u001b[0m",
      "\u001b[1;31mNameError\u001b[0m                                 Traceback (most recent call last)",
      "Input \u001b[1;32mIn [6]\u001b[0m, in \u001b[0;36m<cell line: 4>\u001b[1;34m()\u001b[0m\n\u001b[0;32m      1\u001b[0m file_path \u001b[38;5;241m=\u001b[39m \u001b[38;5;124m'\u001b[39m\u001b[38;5;124mC:/Image\u001b[39m\u001b[38;5;124m'\u001b[39m\n\u001b[0;32m      2\u001b[0m file_name \u001b[38;5;241m=\u001b[39m \u001b[38;5;124m'\u001b[39m\u001b[38;5;124mBTO_001_YichenGuo_JulianGoddy_03072024\u001b[39m\u001b[38;5;124m'\u001b[39m\n\u001b[1;32m----> 4\u001b[0m \u001b[43mpack_to_hdf5_and_upload\u001b[49m(file_path, file_name, growth_para)\n",
      "\u001b[1;31mNameError\u001b[0m: name 'pack_to_hdf5_and_upload' is not defined"
     ]
    }
   ],
   "source": [
    "file_path = 'C:/Image'\n",
    "file_name = 'BTO_001_YichenGuo_JulianGoddy_03072024'\n",
    "\n",
    "pack_to_hdf5_and_upload(file_path, file_name, growth_para)"
   ]
  },
  {
   "cell_type": "code",
   "execution_count": null,
   "id": "0b73a4bc",
   "metadata": {},
   "outputs": [],
   "source": []
  },
  {
   "cell_type": "code",
   "execution_count": null,
   "id": "4f7e3399",
   "metadata": {},
   "outputs": [],
   "source": []
  },
  {
   "cell_type": "code",
   "execution_count": 3,
   "id": "2ebbd7f0",
   "metadata": {
    "scrolled": true
   },
   "outputs": [
    {
     "name": "stdout",
     "output_type": "stream",
     "text": [
      "(item {\n",
      "  id: \"d/391002274\"\n",
      "  title: \"YG_002-100mTorr_Yichen_Guo_03022022\"\n",
      "  owner: \"p/2022_pld_plume_recording\"\n",
      "  creator: \"u/yig319\"\n",
      "  size: 1076404480.0\n",
      "  notes: 0\n",
      "}\n",
      "item {\n",
      "  id: \"d/391034672\"\n",
      "  title: \"YG_002-100mTorr(down)_Yichen_Guo_03022022\"\n",
      "  owner: \"p/2022_pld_plume_recording\"\n",
      "  creator: \"u/yig319\"\n",
      "  size: 704002432.0\n",
      "  notes: 0\n",
      "}\n",
      "item {\n",
      "  id: \"d/391036190\"\n",
      "  title: \"YG_002-110mTorr_Yichen_Guo_03022022\"\n",
      "  owner: \"p/2022_pld_plume_recording\"\n",
      "  creator: \"u/yig319\"\n",
      "  size: 704002432.0\n",
      "  notes: 0\n",
      "}\n",
      "item {\n",
      "  id: \"d/391037378\"\n",
      "  title: \"YG_002-120mTorr_Yichen_Guo_03022022\"\n",
      "  owner: \"p/2022_pld_plume_recording\"\n",
      "  creator: \"u/yig319\"\n",
      "  size: 704002432.0\n",
      "  notes: 0\n",
      "}\n",
      "item {\n",
      "  id: \"d/391036825\"\n",
      "  title: \"YG_002-120mTorr(down)_Yichen_Guo_03022022\"\n",
      "  owner: \"p/2022_pld_plume_recording\"\n",
      "  creator: \"u/yig319\"\n",
      "  size: 704002432.0\n",
      "  notes: 0\n",
      "}\n",
      "item {\n",
      "  id: \"d/391037980\"\n",
      "  title: \"YG_002-130mTorr_Yichen_Guo_03022022\"\n",
      "  owner: \"p/2022_pld_plume_recording\"\n",
      "  creator: \"u/yig319\"\n",
      "  size: 704002432.0\n",
      "  notes: 0\n",
      "}\n",
      "item {\n",
      "  id: \"d/391038539\"\n",
      "  title: \"YG_002-140mTorr_Yichen_Guo_03022022\"\n",
      "  owner: \"p/2022_pld_plume_recording\"\n",
      "  creator: \"u/yig319\"\n",
      "  size: 704002432.0\n",
      "  notes: 0\n",
      "}\n",
      "item {\n",
      "  id: \"d/391039189\"\n",
      "  title: \"YG_002-150mTorr_Yichen_Guo_03022022\"\n",
      "  owner: \"p/2022_pld_plume_recording\"\n",
      "  creator: \"u/yig319\"\n",
      "  size: 704002432.0\n",
      "  notes: 0\n",
      "}\n",
      "item {\n",
      "  id: \"d/391039752\"\n",
      "  title: \"YG_002-200mTorr_Yichen_Guo_03022022\"\n",
      "  owner: \"p/2022_pld_plume_recording\"\n",
      "  creator: \"u/yig319\"\n",
      "  size: 704002432.0\n",
      "  notes: 0\n",
      "}\n",
      "item {\n",
      "  id: \"d/391040288\"\n",
      "  title: \"YG_002-80mTorr(down)_Yichen_Guo_03022022\"\n",
      "  owner: \"p/2022_pld_plume_recording\"\n",
      "  creator: \"u/yig319\"\n",
      "  size: 704002432.0\n",
      "  notes: 0\n",
      "}\n",
      "item {\n",
      "  id: \"d/392228310\"\n",
      "  title: \"YG003_Yichen_Guo_03202022\"\n",
      "  owner: \"p/2022_pld_plume_recording\"\n",
      "  creator: \"u/yig319\"\n",
      "  size: 857604480.0\n",
      "  notes: 0\n",
      "}\n",
      "item {\n",
      "  id: \"d/393400532\"\n",
      "  title: \"YG004_Yichen_Guo_04052022\"\n",
      "  owner: \"p/2022_pld_plume_recording\"\n",
      "  creator: \"u/yig319\"\n",
      "  size: 499204480.0\n",
      "  notes: 0\n",
      "}\n",
      "item {\n",
      "  id: \"d/393538972\"\n",
      "  title: \"YG005_Yichen_Guo_04062022\"\n",
      "  owner: \"p/2022_pld_plume_recording\"\n",
      "  creator: \"u/yig319\"\n",
      "  size: 1792004480.0\n",
      "  notes: 0\n",
      "}\n",
      "item {\n",
      "  id: \"d/394073084\"\n",
      "  title: \"YG006_Yichen_Guo_04132022\"\n",
      "  owner: \"p/2022_pld_plume_recording\"\n",
      "  creator: \"u/yig319\"\n",
      "  size: 1868804480.0\n",
      "  notes: 0\n",
      "}\n",
      "item {\n",
      "  id: \"d/394308621\"\n",
      "  title: \"YG007_Yichen_Guo_04172022\"\n",
      "  owner: \"p/2022_pld_plume_recording\"\n",
      "  creator: \"u/yig319\"\n",
      "  size: 793604480.0\n",
      "  notes: 0\n",
      "}\n",
      "item {\n",
      "  id: \"d/394317327\"\n",
      "  title: \"YG008_Yichen_Guo_04172022\"\n",
      "  owner: \"p/2022_pld_plume_recording\"\n",
      "  creator: \"u/yig319\"\n",
      "  size: 1625604480.0\n",
      "  notes: 0\n",
      "}\n",
      "item {\n",
      "  id: \"d/394613028\"\n",
      "  title: \"YG009_Yichen_Guo_04212022\"\n",
      "  owner: \"p/2022_pld_plume_recording\"\n",
      "  creator: \"u/yig319\"\n",
      "  size: 3737604480.0\n",
      "  notes: 0\n",
      "}\n",
      "item {\n",
      "  id: \"d/394766508\"\n",
      "  title: \"YG010_Yichen_Guo_04232022\"\n",
      "  owner: \"p/2022_pld_plume_recording\"\n",
      "  creator: \"u/yig319\"\n",
      "  size: 729604480.0\n",
      "  notes: 0\n",
      "}\n",
      "item {\n",
      "  id: \"d/394778541\"\n",
      "  title: \"YG011_Yichen_Guo_04232022\"\n",
      "  owner: \"p/2022_pld_plume_recording\"\n",
      "  creator: \"u/yig319\"\n",
      "  size: 729604480.0\n",
      "  notes: 0\n",
      "}\n",
      "item {\n",
      "  id: \"d/394789826\"\n",
      "  title: \"YG012_Yichen_Guo_04232022\"\n",
      "  owner: \"p/2022_pld_plume_recording\"\n",
      "  creator: \"u/yig319\"\n",
      "  size: 1088004480.0\n",
      "  notes: 0\n",
      "}\n",
      "item {\n",
      "  id: \"d/394865204\"\n",
      "  title: \"YG013_Yichen_Guo_04242022\"\n",
      "  owner: \"p/2022_pld_plume_recording\"\n",
      "  creator: \"u/yig319\"\n",
      "  size: 716804480.0\n",
      "  notes: 0\n",
      "}\n",
      "item {\n",
      "  id: \"d/394869215\"\n",
      "  title: \"YG014_Yichen_Guo_04242022\"\n",
      "  owner: \"p/2022_pld_plume_recording\"\n",
      "  creator: \"u/yig319\"\n",
      "  size: 704004480.0\n",
      "  notes: 0\n",
      "}\n",
      "item {\n",
      "  id: \"d/395020592\"\n",
      "  title: \"YG015_Yichen_Guo_04252022\"\n",
      "  owner: \"p/2022_pld_plume_recording\"\n",
      "  creator: \"u/yig319\"\n",
      "  size: 1177604480.0\n",
      "  notes: 0\n",
      "}\n",
      "item {\n",
      "  id: \"d/394947977\"\n",
      "  title: \"YG015_Yichen_Guo_04252022_394947977\"\n",
      "  owner: \"p/2022_pld_plume_recording\"\n",
      "  creator: \"u/yig319\"\n",
      "  size: 1177604480.0\n",
      "  notes: 0\n",
      "}\n",
      "item {\n",
      "  id: \"d/395079827\"\n",
      "  title: \"YG016_Yichen_Guo_04272022\"\n",
      "  owner: \"p/2022_pld_plume_recording\"\n",
      "  creator: \"u/yig319\"\n",
      "  size: 742404480.0\n",
      "  notes: 0\n",
      "}\n",
      "item {\n",
      "  id: \"d/396011958\"\n",
      "  title: \"YG017_Yichen_Guo_05092022\"\n",
      "  owner: \"p/2022_pld_plume_recording\"\n",
      "  creator: \"u/yig319\"\n",
      "  size: 588804480.0\n",
      "  notes: 0\n",
      "}\n",
      "item {\n",
      "  id: \"d/396238052\"\n",
      "  title: \"YG018_Yichen_Guo_05122022\"\n",
      "  owner: \"p/2022_pld_plume_recording\"\n",
      "  creator: \"u/yig319\"\n",
      "  size: 665604480.0\n",
      "  notes: 0\n",
      "}\n",
      "item {\n",
      "  id: \"d/396251682\"\n",
      "  title: \"YG019_Yichen_Guo_05122022\"\n",
      "  owner: \"p/2022_pld_plume_recording\"\n",
      "  creator: \"u/yig319\"\n",
      "  size: 665604480.0\n",
      "  notes: 0\n",
      "}\n",
      "item {\n",
      "  id: \"d/396351130\"\n",
      "  title: \"YG020_Yichen_Guo_05122022\"\n",
      "  owner: \"p/2022_pld_plume_recording\"\n",
      "  creator: \"u/yig319\"\n",
      "  size: 665604480.0\n",
      "  notes: 0\n",
      "}\n",
      "item {\n",
      "  id: \"d/396491195\"\n",
      "  title: \"YG021_Yichen_Guo_05152022\"\n",
      "  owner: \"p/2022_pld_plume_recording\"\n",
      "  creator: \"u/yig319\"\n",
      "  size: 640004480.0\n",
      "  notes: 0\n",
      "}\n",
      "item {\n",
      "  id: \"d/396496515\"\n",
      "  title: \"YG022_Yichen_Guo_05152022\"\n",
      "  owner: \"p/2022_pld_plume_recording\"\n",
      "  creator: \"u/yig319\"\n",
      "  size: 614404480.0\n",
      "  notes: 0\n",
      "}\n",
      "item {\n",
      "  id: \"d/396554090\"\n",
      "  title: \"YG023_Yichen_Guo_05152022\"\n",
      "  owner: \"p/2022_pld_plume_recording\"\n",
      "  creator: \"u/yig319\"\n",
      "  size: 601604480.0\n",
      "  notes: 0\n",
      "}\n",
      "item {\n",
      "  id: \"d/397683096\"\n",
      "  title: \"YG024_Yichen_Guo_05292022\"\n",
      "  owner: \"p/2022_pld_plume_recording\"\n",
      "  creator: \"u/yig319\"\n",
      "  size: 371204480.0\n",
      "  notes: 0\n",
      "}\n",
      "item {\n",
      "  id: \"d/397705830\"\n",
      "  title: \"YG025_Yichen_Guo_05292022\"\n",
      "  owner: \"p/2022_pld_plume_recording\"\n",
      "  creator: \"u/yig319\"\n",
      "  size: 384004480.0\n",
      "  notes: 0\n",
      "}\n",
      "item {\n",
      "  id: \"d/397729041\"\n",
      "  title: \"YG026_Yichen_Guo_05292022\"\n",
      "  owner: \"p/2022_pld_plume_recording\"\n",
      "  creator: \"u/yig319\"\n",
      "  size: 371204480.0\n",
      "  notes: 0\n",
      "}\n",
      "item {\n",
      "  id: \"d/397874809\"\n",
      "  title: \"YG027_Yichen_Guo_05312022\"\n",
      "  owner: \"p/2022_pld_plume_recording\"\n",
      "  creator: \"u/yig319\"\n",
      "  size: 857604480.0\n",
      "  notes: 0\n",
      "}\n",
      "item {\n",
      "  id: \"d/397958247\"\n",
      "  title: \"YG028_Yichen_Guo_06012022\"\n",
      "  owner: \"p/2022_pld_plume_recording\"\n",
      "  creator: \"u/yig319\"\n",
      "  size: 857604480.0\n",
      "  notes: 0\n",
      "}\n",
      "item {\n",
      "  id: \"d/397967213\"\n",
      "  title: \"YG029_Yichen_Guo_06012022\"\n",
      "  owner: \"p/2022_pld_plume_recording\"\n",
      "  creator: \"u/yig319\"\n",
      "  size: 870404480.0\n",
      "  notes: 0\n",
      "}\n",
      "item {\n",
      "  id: \"d/397976169\"\n",
      "  title: \"YG030_Yichen_Guo_06012022\"\n",
      "  owner: \"p/2022_pld_plume_recording\"\n",
      "  creator: \"u/yig319\"\n",
      "  size: 857604480.0\n",
      "  notes: 0\n",
      "}\n",
      "item {\n",
      "  id: \"d/398528481\"\n",
      "  title: \"YG031_Yichen_Guo_06082022\"\n",
      "  owner: \"p/2022_pld_plume_recording\"\n",
      "  creator: \"u/yig319\"\n",
      "  size: 729604480.0\n",
      "  notes: 0\n",
      "}\n",
      "item {\n",
      "  id: \"d/398789205\"\n",
      "  title: \"YG032_Yichen_Guo_06112022\"\n",
      "  owner: \"p/2022_pld_plume_recording\"\n",
      "  creator: \"u/yig319\"\n",
      "  size: 627204480.0\n",
      "  notes: 0\n",
      "}\n",
      "item {\n",
      "  id: \"d/398798818\"\n",
      "  title: \"YG033_Yichen_Guo_06112022\"\n",
      "  owner: \"p/2022_pld_plume_recording\"\n",
      "  creator: \"u/yig319\"\n",
      "  size: 640004480.0\n",
      "  notes: 0\n",
      "}\n",
      "item {\n",
      "  id: \"d/398807862\"\n",
      "  title: \"YG034_Yichen_Guo_06112022\"\n",
      "  owner: \"p/2022_pld_plume_recording\"\n",
      "  creator: \"u/yig319\"\n",
      "  size: 627204480.0\n",
      "  notes: 0\n",
      "}\n",
      "item {\n",
      "  id: \"d/399104722\"\n",
      "  title: \"YG035_Yichen_Guo_06152022\"\n",
      "  owner: \"p/2022_pld_plume_recording\"\n",
      "  creator: \"u/yig319\"\n",
      "  size: 1011204480.0\n",
      "  notes: 0\n",
      "}\n",
      "item {\n",
      "  id: \"d/399113088\"\n",
      "  title: \"YG036_Yichen_Guo_06152022\"\n",
      "  owner: \"p/2022_pld_plume_recording\"\n",
      "  creator: \"u/yig319\"\n",
      "  size: 870404480.0\n",
      "  notes: 0\n",
      "}\n",
      "item {\n",
      "  id: \"d/399126314\"\n",
      "  title: \"YG037_Yichen_Guo_06152022\"\n",
      "  owner: \"p/2022_pld_plume_recording\"\n",
      "  creator: \"u/yig319\"\n",
      "  size: 870404480.0\n",
      "  notes: 0\n",
      "}\n",
      "item {\n",
      "  id: \"d/399140063\"\n",
      "  title: \"YG038_Yichen_Guo_06152022\"\n",
      "  owner: \"p/2022_pld_plume_recording\"\n",
      "  creator: \"u/yig319\"\n",
      "  size: 870404480.0\n",
      "  notes: 0\n",
      "}\n",
      "offset: 0\n",
      "count: 50\n",
      "total: 47\n",
      ", 'ListingReply')\n"
     ]
    }
   ],
   "source": [
    "# transfer ds to nhi-gpu\n",
    "import pandas as pd\n",
    "import json # For dealing with metadata\n",
    "import os # For file level operations\n",
    "from datafed.CommandLib import API\n",
    "df_api = API()\n",
    "\n",
    "ls_resp = df_api.collectionItemsList('c/391027993', count=50)\n",
    "print(ls_resp)"
   ]
  },
  {
   "cell_type": "code",
   "execution_count": 4,
   "id": "1d70d275",
   "metadata": {},
   "outputs": [
    {
     "name": "stdout",
     "output_type": "stream",
     "text": [
      "{'header': {'Base Pressure (Torr)': '5e-5', 'Chamber': 'Laser 1C', 'Cool Down Atmosphere': 'Oxygen', 'Date': '06/08/2022', 'Growth ID': 'YG031', 'Notes': '10Hz set_2 - Do three growths in a row without taking out and sanding target. This is another series of experiments to comfirm the consistency for conclusion from YG028-030. 1st growth(target falls back during growth, redo this). Etched and annealed sample - s2.', 'Path': 'C:/Image/', 'Substrate_1': 'SrTiO3', 'User Name': 'Yichen_Guo', 'time': '08:50:45'}, 'target_1': {'Aperture': '12.5', 'Atmosphere Gas': 'Oxygen', 'Attenuator(mm)': '2thin', 'Focus(mm)': '130', 'Frequency(Hz)': '10', 'Laser Energy(mJ)': '100', 'Laser Voltage(kV)': '17.4', 'Measured Energy Mean(mJ)': '101', 'Measured Energy Std(mJ)': '2.41', 'Pre-Frequency(Hz)': '20', 'Pre-Gas Atmosphere': 'Oxygen', 'Pre-Pressure(mTorr)': '200', 'Pre-Pulses': '1500', 'Pre-Temperature(°C)': '700', 'Pressure(mTorr)': '200', 'Pulses': '3500', 'Target Height(mm)': '128.4', 'Target Material': 'SrRuO3(Berkeley_1C)', 'Temperature(°C)': '700'}}\n"
     ]
    }
   ],
   "source": [
    "dv_resp = df_api.dataView('d/398528481')\n",
    "metadata = json.loads(dv_resp[0].data[0].metadata)\n",
    "print(metadata)\n",
    "\n",
    "# id_index = dv_resp[0].data[0].id\n",
    "# get_resp = df_api.dataGet(id_index, '/scratch/yichen/pld_plumes/', orig_fname=True, wait=True)\n",
    "# get_resp"
   ]
  },
  {
   "cell_type": "code",
   "execution_count": null,
   "id": "0afa78d0",
   "metadata": {},
   "outputs": [],
   "source": [
    "# import json\n",
    "# with open('test_test_06242022.json') as f:\n",
    "#     metadata = json.load(f)\n",
    "# metadata"
   ]
  },
  {
   "cell_type": "code",
   "execution_count": null,
   "id": "f42668bd",
   "metadata": {},
   "outputs": [],
   "source": [
    "file_path = 'C:/Image'\n",
    "file_name = 'YG032_Yichen_Guo_06112022'\n",
    "\n",
    "pack_to_hdf5_and_upload(file_path, file_name, growth_para)"
   ]
  }
 ],
 "metadata": {
  "kernelspec": {
   "display_name": "Python (plume)",
   "language": "python",
   "name": "plume"
  },
  "language_info": {
   "codemirror_mode": {
    "name": "ipython",
    "version": 3
   },
   "file_extension": ".py",
   "mimetype": "text/x-python",
   "name": "python",
   "nbconvert_exporter": "python",
   "pygments_lexer": "ipython3",
   "version": "3.10.0"
  }
 },
 "nbformat": 4,
 "nbformat_minor": 5
}
