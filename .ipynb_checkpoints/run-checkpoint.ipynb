{
 "cells": [
  {
   "cell_type": "code",
   "execution_count": 17,
   "metadata": {},
   "outputs": [],
   "source": [
    "from pld_functions import remove_desktop_ini\n",
    "import os"
   ]
  },
  {
   "cell_type": "code",
   "execution_count": 32,
   "metadata": {},
   "outputs": [],
   "source": [
    "path = 'C:/Image/PLD_Workflow/.git/refs'"
   ]
  },
  {
   "cell_type": "code",
   "execution_count": 33,
   "metadata": {},
   "outputs": [
    {
     "data": {
      "text/plain": [
       "['heads', 'remotes', 'tags']"
      ]
     },
     "execution_count": 33,
     "metadata": {},
     "output_type": "execute_result"
    }
   ],
   "source": [
    "os.listdir(path)"
   ]
  },
  {
   "cell_type": "code",
   "execution_count": 31,
   "metadata": {},
   "outputs": [],
   "source": [
    "remove_desktop_ini('C:/Image/PLD_Workflow/.git')"
   ]
  },
  {
   "cell_type": "code",
   "execution_count": null,
   "metadata": {},
   "outputs": [],
   "source": []
  },
  {
   "cell_type": "code",
   "execution_count": null,
   "metadata": {},
   "outputs": [],
   "source": []
  },
  {
   "cell_type": "code",
   "execution_count": 1,
   "metadata": {
    "scrolled": true
   },
   "outputs": [
    {
     "ename": "ImportError",
     "evalue": "DLL load failed: The specified module could not be found.",
     "output_type": "error",
     "traceback": [
      "\u001b[1;31m---------------------------------------------------------------------------\u001b[0m",
      "\u001b[1;31mImportError\u001b[0m                               Traceback (most recent call last)",
      "\u001b[1;32m<ipython-input-1-47a874c3f168>\u001b[0m in \u001b[0;36m<module>\u001b[1;34m\u001b[0m\n\u001b[0;32m      2\u001b[0m \u001b[1;32mfrom\u001b[0m \u001b[0mPyQt5\u001b[0m\u001b[1;33m.\u001b[0m\u001b[0mQtWidgets\u001b[0m \u001b[1;32mimport\u001b[0m \u001b[1;33m*\u001b[0m\u001b[1;33m\u001b[0m\u001b[1;33m\u001b[0m\u001b[0m\n\u001b[0;32m      3\u001b[0m \u001b[1;32mfrom\u001b[0m \u001b[0mPyQt5\u001b[0m\u001b[1;33m.\u001b[0m\u001b[0mQtGui\u001b[0m \u001b[1;32mimport\u001b[0m \u001b[0mQFont\u001b[0m\u001b[1;33m\u001b[0m\u001b[1;33m\u001b[0m\u001b[0m\n\u001b[1;32m----> 4\u001b[1;33m \u001b[1;32mfrom\u001b[0m \u001b[0mpld_functions\u001b[0m \u001b[1;32mimport\u001b[0m \u001b[0mPLD_Form\u001b[0m\u001b[1;33m\u001b[0m\u001b[1;33m\u001b[0m\u001b[0m\n\u001b[0m\u001b[0;32m      5\u001b[0m \u001b[1;33m\u001b[0m\u001b[0m\n\u001b[0;32m      6\u001b[0m \u001b[1;32mif\u001b[0m \u001b[0m__name__\u001b[0m \u001b[1;33m==\u001b[0m \u001b[1;34m\"__main__\"\u001b[0m\u001b[1;33m:\u001b[0m\u001b[1;33m\u001b[0m\u001b[1;33m\u001b[0m\u001b[0m\n",
      "\u001b[1;32m~\\Dropbox (LU Student)\\PLD workflow\\PLD_Workflow\\pld_functions.py\u001b[0m in \u001b[0;36m<module>\u001b[1;34m\u001b[0m\n\u001b[0;32m      3\u001b[0m \u001b[1;32mimport\u001b[0m \u001b[0mjson\u001b[0m\u001b[1;33m\u001b[0m\u001b[1;33m\u001b[0m\u001b[0m\n\u001b[0;32m      4\u001b[0m \u001b[1;32mimport\u001b[0m \u001b[0mdatetime\u001b[0m\u001b[1;33m\u001b[0m\u001b[1;33m\u001b[0m\u001b[0m\n\u001b[1;32m----> 5\u001b[1;33m \u001b[1;32mimport\u001b[0m \u001b[0mos\u001b[0m\u001b[1;33m,\u001b[0m \u001b[0mglob\u001b[0m\u001b[1;33m,\u001b[0m \u001b[0mh5py\u001b[0m\u001b[1;33m\u001b[0m\u001b[1;33m\u001b[0m\u001b[0m\n\u001b[0m\u001b[0;32m      6\u001b[0m \u001b[1;32mimport\u001b[0m \u001b[0mnumpy\u001b[0m \u001b[1;32mas\u001b[0m \u001b[0mnp\u001b[0m\u001b[1;33m\u001b[0m\u001b[1;33m\u001b[0m\u001b[0m\n\u001b[0;32m      7\u001b[0m \u001b[1;32mimport\u001b[0m \u001b[0mmatplotlib\u001b[0m\u001b[1;33m.\u001b[0m\u001b[0mpyplot\u001b[0m \u001b[1;32mas\u001b[0m \u001b[0mplt\u001b[0m\u001b[1;33m\u001b[0m\u001b[1;33m\u001b[0m\u001b[0m\n",
      "\u001b[1;32m~\\Anaconda3\\envs\\gyc\\lib\\site-packages\\h5py\\__init__.py\u001b[0m in \u001b[0;36m<module>\u001b[1;34m\u001b[0m\n\u001b[0;32m     23\u001b[0m \u001b[1;31m# We tried working around this by using \"package_dir\" but that breaks Cython.\u001b[0m\u001b[1;33m\u001b[0m\u001b[1;33m\u001b[0m\u001b[1;33m\u001b[0m\u001b[0m\n\u001b[0;32m     24\u001b[0m \u001b[1;32mtry\u001b[0m\u001b[1;33m:\u001b[0m\u001b[1;33m\u001b[0m\u001b[1;33m\u001b[0m\u001b[0m\n\u001b[1;32m---> 25\u001b[1;33m     \u001b[1;32mfrom\u001b[0m \u001b[1;33m.\u001b[0m \u001b[1;32mimport\u001b[0m \u001b[0m_errors\u001b[0m\u001b[1;33m\u001b[0m\u001b[1;33m\u001b[0m\u001b[0m\n\u001b[0m\u001b[0;32m     26\u001b[0m \u001b[1;32mexcept\u001b[0m \u001b[0mImportError\u001b[0m\u001b[1;33m:\u001b[0m\u001b[1;33m\u001b[0m\u001b[1;33m\u001b[0m\u001b[0m\n\u001b[0;32m     27\u001b[0m     \u001b[1;32mimport\u001b[0m \u001b[0mos\u001b[0m\u001b[1;33m.\u001b[0m\u001b[0mpath\u001b[0m \u001b[1;32mas\u001b[0m \u001b[0m_op\u001b[0m\u001b[1;33m\u001b[0m\u001b[1;33m\u001b[0m\u001b[0m\n",
      "\u001b[1;32mh5py\\_errors.pyx\u001b[0m in \u001b[0;36minit h5py._errors\u001b[1;34m()\u001b[0m\n",
      "\u001b[1;32m~\\Anaconda3\\envs\\gyc\\lib\\site-packages\\numpy\\__init__.py\u001b[0m in \u001b[0;36m<module>\u001b[1;34m\u001b[0m\n\u001b[0;32m    138\u001b[0m \u001b[1;33m\u001b[0m\u001b[0m\n\u001b[0;32m    139\u001b[0m     \u001b[1;31m# Allow distributors to run custom init code\u001b[0m\u001b[1;33m\u001b[0m\u001b[1;33m\u001b[0m\u001b[1;33m\u001b[0m\u001b[0m\n\u001b[1;32m--> 140\u001b[1;33m     \u001b[1;32mfrom\u001b[0m \u001b[1;33m.\u001b[0m \u001b[1;32mimport\u001b[0m \u001b[0m_distributor_init\u001b[0m\u001b[1;33m\u001b[0m\u001b[1;33m\u001b[0m\u001b[0m\n\u001b[0m\u001b[0;32m    141\u001b[0m \u001b[1;33m\u001b[0m\u001b[0m\n\u001b[0;32m    142\u001b[0m     \u001b[1;32mfrom\u001b[0m \u001b[1;33m.\u001b[0m \u001b[1;32mimport\u001b[0m \u001b[0mcore\u001b[0m\u001b[1;33m\u001b[0m\u001b[1;33m\u001b[0m\u001b[0m\n",
      "\u001b[1;32m~\\Anaconda3\\envs\\gyc\\lib\\site-packages\\numpy\\_distributor_init.py\u001b[0m in \u001b[0;36m<module>\u001b[1;34m\u001b[0m\n\u001b[0;32m     32\u001b[0m \u001b[1;33m\u001b[0m\u001b[0m\n\u001b[0;32m     33\u001b[0m \u001b[1;32mwith\u001b[0m \u001b[0mRTLD_for_MKL\u001b[0m\u001b[1;33m(\u001b[0m\u001b[1;33m)\u001b[0m\u001b[1;33m:\u001b[0m\u001b[1;33m\u001b[0m\u001b[1;33m\u001b[0m\u001b[0m\n\u001b[1;32m---> 34\u001b[1;33m     \u001b[1;32mfrom\u001b[0m \u001b[1;33m.\u001b[0m \u001b[1;32mimport\u001b[0m \u001b[0m_mklinit\u001b[0m\u001b[1;33m\u001b[0m\u001b[1;33m\u001b[0m\u001b[0m\n\u001b[0m\u001b[0;32m     35\u001b[0m \u001b[1;33m\u001b[0m\u001b[0m\n\u001b[0;32m     36\u001b[0m \u001b[1;32mdel\u001b[0m \u001b[0mRTLD_for_MKL\u001b[0m\u001b[1;33m\u001b[0m\u001b[1;33m\u001b[0m\u001b[0m\n",
      "\u001b[1;31mImportError\u001b[0m: DLL load failed: The specified module could not be found."
     ]
    }
   ],
   "source": [
    "import sys\n",
    "from PyQt5.QtWidgets import * \n",
    "from PyQt5.QtGui import QFont \n",
    "from pld_functions import PLD_Form\n",
    "\n",
    "if __name__ == \"__main__\":\n",
    "    app = QApplication(sys.argv)\n",
    "    custom_font = QFont(\"Times\", 10)\n",
    "\n",
    "    app.setFont(custom_font, \"QGroupBox\")\n",
    "    app.setFont(custom_font, \"QComboBox\")\n",
    "    app.setFont(custom_font, \"QLabel\")\n",
    "    app.setFont(custom_font, \"QLineEdit\")\n",
    "    app.setFont(custom_font, \"QPlainTextEdit\")\n",
    "\n",
    "    window = PLD_Form(version=\"Plume_Recording\")\n",
    "    window.show()\n",
    "    app.exec_()"
   ]
  },
  {
   "cell_type": "code",
   "execution_count": 6,
   "metadata": {
    "scrolled": true
   },
   "outputs": [
    {
     "data": {
      "text/plain": [
       "{'header': {'Growth ID': 'JYK100',\n",
       "  'User Name': 'Jiyeob Kim',\n",
       "  'Date': '04/18/2022',\n",
       "  'time': '21:33:13',\n",
       "  'Path': 'C:\\\\Image\\\\',\n",
       "  'Chamber': 'Laser 1C',\n",
       "  'Cool Down Atmosphere': 'Vacuum'},\n",
       " 'target_1': {'Target Material': 'LMO',\n",
       "  'Aperture': '12.5',\n",
       "  'Focus(mm)': '140',\n",
       "  'Target Height(mm)': '28.5',\n",
       "  'Laser Energy(mJ)': '125',\n",
       "  'Temperature(°C)': '770',\n",
       "  'Pressure(mTorr)': '20',\n",
       "  'Frequency(Hz)': '2',\n",
       "  'Pulses': '200'},\n",
       " 'target_2': {'Target Material': 'BSRO',\n",
       "  'Aperture': '12.5',\n",
       "  'Focus(mm)': '140',\n",
       "  'Target Height(mm)': '28.5',\n",
       "  'Laser Energy(mJ)': '125',\n",
       "  'Temperature(°C)': '770',\n",
       "  'Pressure(mTorr)': '20',\n",
       "  'Frequency(Hz)': '2',\n",
       "  'Pulses': '1200'},\n",
       " 'target_3': {'Target Material': 'PMNPT1',\n",
       "  'Aperture': '12.5',\n",
       "  'Focus(mm)': '140',\n",
       "  'Target Height(mm)': '28.5',\n",
       "  'Laser Voltage(kV)': '130',\n",
       "  'Temperature(°C)': '625',\n",
       "  'Pressure(mTorr)': '200',\n",
       "  'Frequency(Hz)': '2',\n",
       "  'Pulses': '1600'},\n",
       " 'target_4': {'Target Material': 'PMNPT',\n",
       "  'Aperture': '12.5',\n",
       "  'Focus(mm)': '140',\n",
       "  'Target Height(mm)': '28.5',\n",
       "  'Laser Energy(mJ)': '130',\n",
       "  'Temperature(°C)': '625',\n",
       "  'Pressure(mTorr)': '200',\n",
       "  'Frequency(Hz)': '2',\n",
       "  'Pulses': '1600'},\n",
       " 'target_5': {'Target Material': 'BSRO',\n",
       "  'Aperture': '12.5',\n",
       "  'Focus(mm)': '140',\n",
       "  'Target Height(mm)': '28.5',\n",
       "  'Laser Energy(mJ)': '125',\n",
       "  'Temperature(°C)': '625',\n",
       "  'Pressure(mTorr)': '200',\n",
       "  'Frequency(Hz)': '2',\n",
       "  'Pulses': '1200'}}"
      ]
     },
     "execution_count": 6,
     "metadata": {},
     "output_type": "execute_result"
    }
   ],
   "source": [
    "import json\n",
    "json_file = 'C:/Image/JYK100_Jiyeob Kim_04182022.json'\n",
    "with open(json_file) as f:\n",
    "    growth_para = json.load(f)\n",
    "growth_para"
   ]
  },
  {
   "cell_type": "code",
   "execution_count": 7,
   "metadata": {},
   "outputs": [
    {
     "name": "stdout",
     "output_type": "stream",
     "text": [
      "Packing to hdf5...\n",
      "Done!\n"
     ]
    }
   ],
   "source": [
    "import sys\n",
    "from pld_functions import pack_to_hdf5\n",
    "\n",
    "file_path = 'C:/Image'\n",
    "file_name = 'JYK100_Jiyeob Kim_04182022'\n",
    "pack_to_hdf5(file_path, file_name)"
   ]
  },
  {
   "cell_type": "code",
   "execution_count": null,
   "metadata": {},
   "outputs": [],
   "source": []
  },
  {
   "cell_type": "code",
   "execution_count": 8,
   "metadata": {
    "scrolled": true
   },
   "outputs": [
    {
     "name": "stdout",
     "output_type": "stream",
     "text": [
      "Uploading to Datafed...\n"
     ]
    },
    {
     "ename": "AttributeError",
     "evalue": "'NoneType' object has no attribute 'task'",
     "output_type": "error",
     "traceback": [
      "\u001b[1;31m---------------------------------------------------------------------------\u001b[0m",
      "\u001b[1;31mAttributeError\u001b[0m                            Traceback (most recent call last)",
      "\u001b[1;32m<ipython-input-8-640419c852bf>\u001b[0m in \u001b[0;36m<module>\u001b[1;34m\u001b[0m\n\u001b[0;32m      3\u001b[0m \u001b[0mds_path\u001b[0m \u001b[1;33m=\u001b[0m \u001b[1;34m'C:/Image'\u001b[0m\u001b[1;33m\u001b[0m\u001b[1;33m\u001b[0m\u001b[0m\n\u001b[0;32m      4\u001b[0m \u001b[0mfile_name\u001b[0m \u001b[1;33m=\u001b[0m \u001b[1;34m'JYK100_Jiyeob Kim_04182022'\u001b[0m\u001b[1;33m\u001b[0m\u001b[1;33m\u001b[0m\u001b[0m\n\u001b[1;32m----> 5\u001b[1;33m \u001b[0mupload_to_datafed\u001b[0m\u001b[1;33m(\u001b[0m\u001b[0mfile_path\u001b[0m\u001b[1;33m,\u001b[0m \u001b[0mfile_name\u001b[0m\u001b[1;33m,\u001b[0m \u001b[0mgrowth_para\u001b[0m\u001b[1;33m,\u001b[0m \u001b[0mdataset_id\u001b[0m\u001b[1;33m=\u001b[0m\u001b[1;34m'c/391937642'\u001b[0m\u001b[1;33m)\u001b[0m\u001b[1;33m\u001b[0m\u001b[1;33m\u001b[0m\u001b[0m\n\u001b[0m",
      "\u001b[1;32mC:\\Image\\PLD_Workflow\\pld_functions.py\u001b[0m in \u001b[0;36mupload_to_datafed\u001b[1;34m(file_path, file_name, growth_para, dataset_id)\u001b[0m\n\u001b[0;32m    520\u001b[0m                                )\n\u001b[0;32m    521\u001b[0m     \u001b[0mrec_id\u001b[0m \u001b[1;33m=\u001b[0m \u001b[0mdc_resp\u001b[0m\u001b[1;33m[\u001b[0m\u001b[1;36m0\u001b[0m\u001b[1;33m]\u001b[0m\u001b[1;33m.\u001b[0m\u001b[0mdata\u001b[0m\u001b[1;33m[\u001b[0m\u001b[1;36m0\u001b[0m\u001b[1;33m]\u001b[0m\u001b[1;33m.\u001b[0m\u001b[0mid\u001b[0m\u001b[1;33m\u001b[0m\u001b[1;33m\u001b[0m\u001b[0m\n\u001b[1;32m--> 522\u001b[1;33m     put_resp = df_api.dataPut(rec_id, # record id\n\u001b[0m\u001b[0;32m    523\u001b[0m                               \u001b[0mfile_path\u001b[0m\u001b[1;33m+\u001b[0m\u001b[1;34m'/'\u001b[0m\u001b[1;33m+\u001b[0m\u001b[0mfile_name\u001b[0m\u001b[1;33m+\u001b[0m\u001b[1;34m'.h5'\u001b[0m\u001b[1;33m,\u001b[0m \u001b[1;31m# path to file\u001b[0m\u001b[1;33m\u001b[0m\u001b[1;33m\u001b[0m\u001b[0m\n\u001b[0;32m    524\u001b[0m                               \u001b[0mwait\u001b[0m\u001b[1;33m=\u001b[0m\u001b[1;32mTrue\u001b[0m  \u001b[1;31m# Waitcas until transfer completes.\u001b[0m\u001b[1;33m\u001b[0m\u001b[1;33m\u001b[0m\u001b[0m\n",
      "\u001b[1;32m~\\Anaconda3\\envs\\pld\\lib\\site-packages\\datafed\\CommandLib.py\u001b[0m in \u001b[0;36mdataPut\u001b[1;34m(self, data_id, path, encrypt, wait, timeout_sec, extension, context)\u001b[0m\n\u001b[0;32m    690\u001b[0m                 \u001b[1;31m#reply = reply2\u001b[0m\u001b[1;33m\u001b[0m\u001b[1;33m\u001b[0m\u001b[1;33m\u001b[0m\u001b[0m\n\u001b[0;32m    691\u001b[0m \u001b[1;33m\u001b[0m\u001b[0m\n\u001b[1;32m--> 692\u001b[1;33m                 \u001b[1;32mif\u001b[0m \u001b[0mreply2\u001b[0m\u001b[1;33m[\u001b[0m\u001b[1;36m0\u001b[0m\u001b[1;33m]\u001b[0m\u001b[1;33m.\u001b[0m\u001b[0mtask\u001b[0m\u001b[1;33m[\u001b[0m\u001b[1;36m0\u001b[0m\u001b[1;33m]\u001b[0m\u001b[1;33m.\u001b[0m\u001b[0mstatus\u001b[0m \u001b[1;33m>\u001b[0m \u001b[1;36m2\u001b[0m\u001b[1;33m:\u001b[0m\u001b[1;33m\u001b[0m\u001b[1;33m\u001b[0m\u001b[0m\n\u001b[0m\u001b[0;32m    693\u001b[0m                     \u001b[1;32mbreak\u001b[0m\u001b[1;33m\u001b[0m\u001b[1;33m\u001b[0m\u001b[0m\n\u001b[0;32m    694\u001b[0m \u001b[1;33m\u001b[0m\u001b[0m\n",
      "\u001b[1;31mAttributeError\u001b[0m: 'NoneType' object has no attribute 'task'"
     ]
    }
   ],
   "source": [
    "from pld_functions import upload_to_datafed\n",
    "\n",
    "ds_path = 'C:/Image'\n",
    "file_name = 'JYK100_Jiyeob Kim_04182022'\n",
    "upload_to_datafed(file_path, file_name, growth_para, dataset_id='c/391937642')"
   ]
  },
  {
   "cell_type": "code",
   "execution_count": null,
   "metadata": {},
   "outputs": [],
   "source": []
  },
  {
   "cell_type": "code",
   "execution_count": 1,
   "metadata": {},
   "outputs": [
    {
     "data": {
      "text/plain": [
       "{'header': {'Growth ID': 'YG009',\n",
       "  'User Name': 'Yichen_Guo',\n",
       "  'Date': '04/21/2022',\n",
       "  'time': '11:41:11',\n",
       "  'Path': 'C:\\\\Image\\\\',\n",
       "  'Chamber': 'Laser 1C',\n",
       "  'Substrate_1': 'None',\n",
       "  'Base Pressure (Torr)': '1.9e-5',\n",
       "  'Cool Down Atmosphere': 'Vacuum'},\n",
       " 'target_1': {'Target Material': 'SrRuO3',\n",
       "  'Aperture': '12.5',\n",
       "  'Focus(mm)': '140',\n",
       "  'Attenuator(mm)': '2thin + 1thick',\n",
       "  'Target Height(mm)': '128.4',\n",
       "  'Laser Voltage(kV)': '17.2',\n",
       "  'Laser Energy(mJ)': '100',\n",
       "  'Measured Energy Mean(mJ)': '101',\n",
       "  'Measured Energy Std(mJ)': '1.99',\n",
       "  'Temperature(°C)': '700',\n",
       "  'Pressure(mTorr)': '200',\n",
       "  'Frequency(Hz)': '10',\n",
       "  'Pulses': '15000',\n",
       "  'Atmosphere Gas': 'Oxygen'},\n",
       " 'target_2': {'Target Material': 'SrRuO3',\n",
       "  'Frequency(Hz)': '15000',\n",
       "  'Pulses': '10'}}"
      ]
     },
     "execution_count": 1,
     "metadata": {},
     "output_type": "execute_result"
    }
   ],
   "source": [
    "import json\n",
    "json_file = 'C:/Image/YG009_Yichen_Guo_04212022.json'\n",
    "with open(json_file) as f:\n",
    "    growth_para = json.load(f)\n",
    "growth_para"
   ]
  },
  {
   "cell_type": "code",
   "execution_count": 2,
   "metadata": {},
   "outputs": [
    {
     "name": "stdout",
     "output_type": "stream",
     "text": [
      "Packing to hdf5...\n",
      "Done!\n"
     ]
    }
   ],
   "source": [
    "import sys\n",
    "from pld_functions import pack_to_hdf5\n",
    "\n",
    "file_path = 'C:/Image'\n",
    "file_name = 'YG009_Yichen_Guo_04212022'\n",
    "pack_to_hdf5(file_path, file_name)"
   ]
  },
  {
   "cell_type": "code",
   "execution_count": 4,
   "metadata": {},
   "outputs": [
    {
     "name": "stdout",
     "output_type": "stream",
     "text": [
      "Uploading to Datafed...\n",
      "Done!\n"
     ]
    },
    {
     "data": {
      "text/plain": [
       "(task {\n",
       "   id: \"task/394613050\"\n",
       "   type: TT_DATA_PUT\n",
       "   status: TS_SUCCEEDED\n",
       "   client: \"u/yig319\"\n",
       "   step: 3\n",
       "   steps: 4\n",
       "   msg: \"Finished\"\n",
       "   ct: 1650570119\n",
       "   ut: 1650570253\n",
       "   source: \"f1507eb2-9b44-11ec-bf8a-ab28bf5d96bb/C/Image/YG009_Yichen_Guo_04212022.h5\"\n",
       "   dest: \"d/394613028\"\n",
       " },\n",
       " 'TaskDataReply')"
      ]
     },
     "execution_count": 4,
     "metadata": {},
     "output_type": "execute_result"
    }
   ],
   "source": [
    "from pld_functions import upload_to_datafed\n",
    "\n",
    "ds_path = 'C:/Image'\n",
    "file_name = 'YG009_Yichen_Guo_04212022'\n",
    "upload_to_datafed(file_path, file_name, growth_para, dataset_id='c/391937642')"
   ]
  },
  {
   "cell_type": "code",
   "execution_count": null,
   "metadata": {},
   "outputs": [],
   "source": []
  }
 ],
 "metadata": {
  "kernelspec": {
   "display_name": "Python (pld)",
   "language": "python",
   "name": "pld"
  },
  "language_info": {
   "codemirror_mode": {
    "name": "ipython",
    "version": 3
   },
   "file_extension": ".py",
   "mimetype": "text/x-python",
   "name": "python",
   "nbconvert_exporter": "python",
   "pygments_lexer": "ipython3",
   "version": "3.8.12"
  }
 },
 "nbformat": 4,
 "nbformat_minor": 2
}
